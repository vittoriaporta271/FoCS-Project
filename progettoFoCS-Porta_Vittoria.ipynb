{
 "cells": [
  {
   "cell_type": "markdown",
   "metadata": {},
   "source": [
    "# FOUNDATION OF COMPUTER SCIENCE PROJECT\n"
   ]
  },
  {
   "cell_type": "markdown",
   "metadata": {},
   "source": [
    "Vittoria Porta (861784)"
   ]
  },
  {
   "cell_type": "markdown",
   "metadata": {},
   "source": [
    "Il progetto è stato realizzato utilizzando i dati provenenienti dal database Kiva  (https://www.kaggle.com/gaborfodor/additional-kiva-snapshot) che fornisce informazioni su circa 1,4 milioni di prestiti e 2,3 milioni di prestatori che provengono da tutto il mondo.  Complessivamente il database contiene 7 files (loans.csv ,lenders.csv, loans_lenders.csv, country_stats.csv, GEconV4.csv, locations.csv, loan_coords.csv).\n"
   ]
  },
  {
   "cell_type": "markdown",
   "metadata": {},
   "source": [
    "Le librerie che mi sono state utili per svolgere il lavoro vengono riportate di seguito:"
   ]
  },
  {
   "cell_type": "code",
   "execution_count": 1,
   "metadata": {},
   "outputs": [],
   "source": [
    "import pandas as pd\n",
    "import numpy as np\n",
    "import datetime as dt\n",
    "from datetime import date\n",
    "\n",
    "%load_ext autotime"
   ]
  },
  {
   "cell_type": "code",
   "execution_count": 2,
   "metadata": {},
   "outputs": [
    {
     "name": "stdout",
     "output_type": "stream",
     "text": [
      "time: 597 µs\n"
     ]
    }
   ],
   "source": [
    "#pip install ipython-autotime"
   ]
  },
  {
   "cell_type": "markdown",
   "metadata": {},
   "source": [
    "Utilizzo questa funzione per il calcolo totale del tempo di esecuzione di tutte le celle"
   ]
  },
  {
   "cell_type": "code",
   "execution_count": 3,
   "metadata": {},
   "outputs": [
    {
     "name": "stdout",
     "output_type": "stream",
     "text": [
      "time: 1.15 ms\n"
     ]
    }
   ],
   "source": [
    "initial= dt.datetime.now()"
   ]
  },
  {
   "cell_type": "markdown",
   "metadata": {},
   "source": [
    "# QUESTION 1)\n",
    "- Normalize the loan_lenders table. In the normalized table, each row must have one loan_id and one lender."
   ]
  },
  {
   "cell_type": "markdown",
   "metadata": {},
   "source": [
    "Per prima cosa ho importato la tabella loans_lenders, con l'utilizzo della libreria pandas."
   ]
  },
  {
   "cell_type": "code",
   "execution_count": 4,
   "metadata": {},
   "outputs": [
    {
     "name": "stdout",
     "output_type": "stream",
     "text": [
      "time: 5.47 s\n"
     ]
    }
   ],
   "source": [
    "loans_lenders = pd.read_csv(r'./cs/loans_lenders.csv')"
   ]
  },
  {
   "cell_type": "code",
   "execution_count": 5,
   "metadata": {},
   "outputs": [
    {
     "name": "stdout",
     "output_type": "stream",
     "text": [
      "time: 633 µs\n"
     ]
    }
   ],
   "source": [
    "#loans_lenders.head(5)"
   ]
  },
  {
   "cell_type": "markdown",
   "metadata": {},
   "source": [
    "La prima domanda chiede di ristrutturare il dataframe in maniera da ottenere su ciascuna riga un solo codice del prestito 'loan_id' e un solo prestatore 'lender': in questo modo ho deciso di creare una lista vuota che viene riempita tramite un doppio ciclo 'for' che separa la colonna non strutturata dei lenders (con il separatore (', '), così da ottenere una lista di lenders per ogni 'loan_id' e i 'loan_id' vengono ripetuti tante volte quanti sono i lenders).\n",
    "\n",
    "Il risultato ottenuto è un nuovo dataframe (norm_loans_lenders) contenente 28293931 righe, ciascuna delle quali composta da un lender e dal loan_id corrispondente al prestito."
   ]
  },
  {
   "cell_type": "code",
   "execution_count": 6,
   "metadata": {},
   "outputs": [
    {
     "data": {
      "text/html": [
       "<div>\n",
       "<style scoped>\n",
       "    .dataframe tbody tr th:only-of-type {\n",
       "        vertical-align: middle;\n",
       "    }\n",
       "\n",
       "    .dataframe tbody tr th {\n",
       "        vertical-align: top;\n",
       "    }\n",
       "\n",
       "    .dataframe thead th {\n",
       "        text-align: right;\n",
       "    }\n",
       "</style>\n",
       "<table border=\"1\" class=\"dataframe\">\n",
       "  <thead>\n",
       "    <tr style=\"text-align: right;\">\n",
       "      <th></th>\n",
       "      <th>loan_id</th>\n",
       "      <th>lenders</th>\n",
       "    </tr>\n",
       "  </thead>\n",
       "  <tbody>\n",
       "    <tr>\n",
       "      <th>0</th>\n",
       "      <td>483693</td>\n",
       "      <td>muc888</td>\n",
       "    </tr>\n",
       "    <tr>\n",
       "      <th>1</th>\n",
       "      <td>483693</td>\n",
       "      <td>sam4326</td>\n",
       "    </tr>\n",
       "    <tr>\n",
       "      <th>2</th>\n",
       "      <td>483693</td>\n",
       "      <td>camaran3922</td>\n",
       "    </tr>\n",
       "    <tr>\n",
       "      <th>3</th>\n",
       "      <td>483693</td>\n",
       "      <td>lachheb1865</td>\n",
       "    </tr>\n",
       "    <tr>\n",
       "      <th>4</th>\n",
       "      <td>483693</td>\n",
       "      <td>rebecca3499</td>\n",
       "    </tr>\n",
       "    <tr>\n",
       "      <th>5</th>\n",
       "      <td>483693</td>\n",
       "      <td>karlheinz4543</td>\n",
       "    </tr>\n",
       "    <tr>\n",
       "      <th>6</th>\n",
       "      <td>483693</td>\n",
       "      <td>jerrydb</td>\n",
       "    </tr>\n",
       "    <tr>\n",
       "      <th>7</th>\n",
       "      <td>483693</td>\n",
       "      <td>paula8951</td>\n",
       "    </tr>\n",
       "    <tr>\n",
       "      <th>8</th>\n",
       "      <td>483693</td>\n",
       "      <td>gmct</td>\n",
       "    </tr>\n",
       "    <tr>\n",
       "      <th>9</th>\n",
       "      <td>483693</td>\n",
       "      <td>amra9383</td>\n",
       "    </tr>\n",
       "  </tbody>\n",
       "</table>\n",
       "</div>"
      ],
      "text/plain": [
       "   loan_id        lenders\n",
       "0   483693         muc888\n",
       "1   483693        sam4326\n",
       "2   483693    camaran3922\n",
       "3   483693    lachheb1865\n",
       "4   483693    rebecca3499\n",
       "5   483693  karlheinz4543\n",
       "6   483693        jerrydb\n",
       "7   483693      paula8951\n",
       "8   483693           gmct\n",
       "9   483693       amra9383"
      ]
     },
     "execution_count": 6,
     "metadata": {},
     "output_type": "execute_result"
    },
    {
     "name": "stdout",
     "output_type": "stream",
     "text": [
      "time: 50.8 s\n"
     ]
    }
   ],
   "source": [
    "loans_list = []\n",
    "for i, j in zip(loans_lenders.loan_id, loans_lenders.lenders):\n",
    "    for el in j.split(', '):\n",
    "        loans_list.append([i] + [el])\n",
    "\n",
    "norm_loans_lenders = pd.DataFrame(loans_list,columns = ['loan_id','lenders'])\n",
    "norm_loans_lenders.head(10)"
   ]
  },
  {
   "cell_type": "markdown",
   "metadata": {},
   "source": [
    "# QUESTION 2)\n",
    "- For each loan, add a column duration corresponding to the number of days between the disburse time and the planned expiration time. If any of those two dates is missing, also the duration must be missing."
   ]
  },
  {
   "cell_type": "markdown",
   "metadata": {},
   "source": [
    "Per rispondere al secondo quesito ho, per prima cosa caricato (utilizzando nuovamente la libreria pandas), il file loans.csv"
   ]
  },
  {
   "cell_type": "code",
   "execution_count": 7,
   "metadata": {},
   "outputs": [
    {
     "name": "stdout",
     "output_type": "stream",
     "text": [
      "time: 1min\n"
     ]
    }
   ],
   "source": [
    "loans_csv = pd.read_csv(r'./cs/loans.csv')"
   ]
  },
  {
   "cell_type": "markdown",
   "metadata": {},
   "source": [
    "Per prima è stato necessario effettuare una fase di esplorazione del dataset per conoscere la natura delle variabili.\n"
   ]
  },
  {
   "cell_type": "code",
   "execution_count": 8,
   "metadata": {},
   "outputs": [
    {
     "name": "stdout",
     "output_type": "stream",
     "text": [
      "time: 1.27 ms\n"
     ]
    }
   ],
   "source": [
    "#loans_csv.columns\n",
    "#loans_csv.dtypes"
   ]
  },
  {
   "cell_type": "markdown",
   "metadata": {},
   "source": [
    "Grazie alla prima fase di esplorazione, ho notato che entrambe le date utili per la risoluzione del quesito erano 'objects': le ho dunque trasformate in formato datetime tramite la funzione 'pandas.to_datetime'.\n",
    "\n",
    "Secondariamente, ho aggiunto una nuova colonna al dataframe già esistente 'loans_csv' chiamata 'duration' e ho eseguito una sottrazione tra le due date utilizzando la funzione pandas.Series.dt.days che calcola il numero di giorni per ogni elemento."
   ]
  },
  {
   "cell_type": "code",
   "execution_count": 9,
   "metadata": {},
   "outputs": [
    {
     "name": "stdout",
     "output_type": "stream",
     "text": [
      "time: 1.37 s\n"
     ]
    }
   ],
   "source": [
    "data1 = pd.to_datetime(loans_csv[\"disburse_time\"])\n",
    "data2 = pd.to_datetime(loans_csv[\"planned_expiration_time\"])\n",
    "loans_csv['duration'] = (data2 - data1).dt.days"
   ]
  },
  {
   "cell_type": "markdown",
   "metadata": {},
   "source": [
    "Dopo di che ho creato un nuovo dataframe che mostrasse i risultati ottenuti aggiungendo la colonna duration (n. di giorni)."
   ]
  },
  {
   "cell_type": "code",
   "execution_count": 10,
   "metadata": {},
   "outputs": [
    {
     "data": {
      "text/html": [
       "<div>\n",
       "<style scoped>\n",
       "    .dataframe tbody tr th:only-of-type {\n",
       "        vertical-align: middle;\n",
       "    }\n",
       "\n",
       "    .dataframe tbody tr th {\n",
       "        vertical-align: top;\n",
       "    }\n",
       "\n",
       "    .dataframe thead th {\n",
       "        text-align: right;\n",
       "    }\n",
       "</style>\n",
       "<table border=\"1\" class=\"dataframe\">\n",
       "  <thead>\n",
       "    <tr style=\"text-align: right;\">\n",
       "      <th></th>\n",
       "      <th>Loan ID</th>\n",
       "      <th>Disburse Time</th>\n",
       "      <th>P_Expiration</th>\n",
       "      <th>duration</th>\n",
       "    </tr>\n",
       "  </thead>\n",
       "  <tbody>\n",
       "    <tr>\n",
       "      <th>0</th>\n",
       "      <td>657307</td>\n",
       "      <td>2013-12-22 08:00:00.000 +0000</td>\n",
       "      <td>2014-02-14 03:30:06.000 +0000</td>\n",
       "      <td>53.0</td>\n",
       "    </tr>\n",
       "    <tr>\n",
       "      <th>1</th>\n",
       "      <td>657259</td>\n",
       "      <td>2013-12-20 08:00:00.000 +0000</td>\n",
       "      <td>2014-03-26 22:25:07.000 +0000</td>\n",
       "      <td>96.0</td>\n",
       "    </tr>\n",
       "    <tr>\n",
       "      <th>2</th>\n",
       "      <td>658010</td>\n",
       "      <td>2014-01-09 08:00:00.000 +0000</td>\n",
       "      <td>2014-02-15 21:10:05.000 +0000</td>\n",
       "      <td>37.0</td>\n",
       "    </tr>\n",
       "    <tr>\n",
       "      <th>3</th>\n",
       "      <td>659347</td>\n",
       "      <td>2014-01-17 08:00:00.000 +0000</td>\n",
       "      <td>2014-02-21 03:10:02.000 +0000</td>\n",
       "      <td>34.0</td>\n",
       "    </tr>\n",
       "    <tr>\n",
       "      <th>4</th>\n",
       "      <td>656933</td>\n",
       "      <td>2013-12-17 08:00:00.000 +0000</td>\n",
       "      <td>2014-02-13 06:10:02.000 +0000</td>\n",
       "      <td>57.0</td>\n",
       "    </tr>\n",
       "    <tr>\n",
       "      <th>5</th>\n",
       "      <td>659605</td>\n",
       "      <td>2014-01-15 08:00:00.000 +0000</td>\n",
       "      <td>2014-02-20 02:30:07.000 +0000</td>\n",
       "      <td>35.0</td>\n",
       "    </tr>\n",
       "    <tr>\n",
       "      <th>6</th>\n",
       "      <td>660240</td>\n",
       "      <td>2014-01-20 08:00:00.000 +0000</td>\n",
       "      <td>2014-02-21 07:50:11.000 +0000</td>\n",
       "      <td>31.0</td>\n",
       "    </tr>\n",
       "    <tr>\n",
       "      <th>7</th>\n",
       "      <td>661601</td>\n",
       "      <td>2014-01-10 08:00:00.000 +0000</td>\n",
       "      <td>2014-02-25 09:50:03.000 +0000</td>\n",
       "      <td>46.0</td>\n",
       "    </tr>\n",
       "    <tr>\n",
       "      <th>8</th>\n",
       "      <td>661960</td>\n",
       "      <td>2014-01-23 08:00:00.000 +0000</td>\n",
       "      <td>2014-02-26 00:10:03.000 +0000</td>\n",
       "      <td>33.0</td>\n",
       "    </tr>\n",
       "    <tr>\n",
       "      <th>9</th>\n",
       "      <td>662117</td>\n",
       "      <td>2014-01-10 08:00:00.000 +0000</td>\n",
       "      <td>2014-03-19 13:40:02.000 +0000</td>\n",
       "      <td>68.0</td>\n",
       "    </tr>\n",
       "  </tbody>\n",
       "</table>\n",
       "</div>"
      ],
      "text/plain": [
       "   Loan ID                  Disburse Time                   P_Expiration  \\\n",
       "0   657307  2013-12-22 08:00:00.000 +0000  2014-02-14 03:30:06.000 +0000   \n",
       "1   657259  2013-12-20 08:00:00.000 +0000  2014-03-26 22:25:07.000 +0000   \n",
       "2   658010  2014-01-09 08:00:00.000 +0000  2014-02-15 21:10:05.000 +0000   \n",
       "3   659347  2014-01-17 08:00:00.000 +0000  2014-02-21 03:10:02.000 +0000   \n",
       "4   656933  2013-12-17 08:00:00.000 +0000  2014-02-13 06:10:02.000 +0000   \n",
       "5   659605  2014-01-15 08:00:00.000 +0000  2014-02-20 02:30:07.000 +0000   \n",
       "6   660240  2014-01-20 08:00:00.000 +0000  2014-02-21 07:50:11.000 +0000   \n",
       "7   661601  2014-01-10 08:00:00.000 +0000  2014-02-25 09:50:03.000 +0000   \n",
       "8   661960  2014-01-23 08:00:00.000 +0000  2014-02-26 00:10:03.000 +0000   \n",
       "9   662117  2014-01-10 08:00:00.000 +0000  2014-03-19 13:40:02.000 +0000   \n",
       "\n",
       "   duration  \n",
       "0      53.0  \n",
       "1      96.0  \n",
       "2      37.0  \n",
       "3      34.0  \n",
       "4      57.0  \n",
       "5      35.0  \n",
       "6      31.0  \n",
       "7      46.0  \n",
       "8      33.0  \n",
       "9      68.0  "
      ]
     },
     "execution_count": 10,
     "metadata": {},
     "output_type": "execute_result"
    },
    {
     "name": "stdout",
     "output_type": "stream",
     "text": [
      "time: 651 ms\n"
     ]
    }
   ],
   "source": [
    "df1 = pd.DataFrame(columns=['Loan ID','Disburse Time','P_Expiration','duration'])\n",
    "df1['Loan ID'] = loans_csv['loan_id']\n",
    "df1['Disburse Time'] = loans_csv['disburse_time']\n",
    "df1['P_Expiration'] = loans_csv['planned_expiration_time']\n",
    "df1['duration'] = loans_csv['duration']\n",
    "df1.head(10)"
   ]
  },
  {
   "cell_type": "markdown",
   "metadata": {},
   "source": [
    "All'interno della colonna 'duration' ci sono 14395 valori negativi e 374645 missing values"
   ]
  },
  {
   "cell_type": "code",
   "execution_count": 11,
   "metadata": {},
   "outputs": [
    {
     "name": "stdout",
     "output_type": "stream",
     "text": [
      "time: 870 µs\n"
     ]
    }
   ],
   "source": [
    "#print(len(df1[df1['duration']<0]))  = 14935   \n",
    "#print(df1['duration'].isnull().sum()) = 374645"
   ]
  },
  {
   "cell_type": "markdown",
   "metadata": {},
   "source": [
    "# QUESTION 12)\n",
    "- For each year, compute the total amount of loans. Each loan that has planned expiration time and disburse time in different years must \n",
    "have its amount distributed proportionally tothe number of days in each year. For example, a loan with disburse time December 1st, 2016, \n",
    "planned expiration time January 30th 2018, and amount 5000USD has an amount of 5000USD * 31 / (31+365+30) = 363.85 for 2016, 5000USD * 365/ (31+365+30) = 4284.04 for 2017,and 5000USD * 30 / (31+365+30) = 352.11 for 2018."
   ]
  },
  {
   "cell_type": "markdown",
   "metadata": {},
   "source": [
    "Ho deciso di trasferire il punto 12) dopo il punto 2) dal momento che ho tutte le informazioni disponibili a svolgerlo; così facendo lascerò i punti che riguardano l'analisi delle nazioni nei punti a seguire.\n",
    "\n",
    "Per eseguire il punto 12) decido in primo luogo di creare 6 nuove variabili che vengono aggiunte al dataframe 'loans_csv' che rispettivamente estraggono gli anni, i mesi e i giorni delle date 'disburse_time' e 'planned_expiration_time' (tramite la funzione di pandas dt.year, dt.month e dt.day).\n",
    "\n",
    "Ho inteso come 'disburse_time' la data di inizio del prestito e come 'planned_expiration_time' la data di estinzione del prestito."
   ]
  },
  {
   "cell_type": "code",
   "execution_count": 12,
   "metadata": {},
   "outputs": [
    {
     "name": "stdout",
     "output_type": "stream",
     "text": [
      "time: 546 ms\n"
     ]
    }
   ],
   "source": [
    "loans_csv['year_plan'] = pd.DataFrame(data2.dt.year) \n",
    "loans_csv['year_disbu'] = pd.DataFrame(data1.dt.year)      \n",
    "loans_csv['day_plan'] = pd.DataFrame(data2.dt.day) \n",
    "loans_csv['day_disbu'] = pd.DataFrame(data1.dt.day)\n",
    "loans_csv['month_plan'] = pd.DataFrame(data2.dt.month) \n",
    "loans_csv['month_disbu'] = pd.DataFrame(data1.dt.month)    "
   ]
  },
  {
   "cell_type": "markdown",
   "metadata": {},
   "source": [
    "Ho creato un successivo dataframe 'tot_loan' che comprendesse tutte le informazioni necessarie allo svolgimento dell'esercizio.\n",
    "Ho recuperato e aggiunto la variabile 'duration' precedentemente calcolata al punto 2) che mi calcola la differenza in giorni tra 'disburse_time' e 'planned_expiration_time' (ora rinominata in 'tot_days' e ho aggiunto la variabile 'debitxday' che calcola l'amount giornaliero dividendo l'amount totale fratto i giorni totali tra una e l'altra data."
   ]
  },
  {
   "cell_type": "code",
   "execution_count": 13,
   "metadata": {},
   "outputs": [
    {
     "data": {
      "text/html": [
       "<div>\n",
       "<style scoped>\n",
       "    .dataframe tbody tr th:only-of-type {\n",
       "        vertical-align: middle;\n",
       "    }\n",
       "\n",
       "    .dataframe tbody tr th {\n",
       "        vertical-align: top;\n",
       "    }\n",
       "\n",
       "    .dataframe thead th {\n",
       "        text-align: right;\n",
       "    }\n",
       "</style>\n",
       "<table border=\"1\" class=\"dataframe\">\n",
       "  <thead>\n",
       "    <tr style=\"text-align: right;\">\n",
       "      <th></th>\n",
       "      <th>loan_id</th>\n",
       "      <th>disburse_time</th>\n",
       "      <th>planned_expiration_time</th>\n",
       "      <th>loan_amount</th>\n",
       "      <th>year_plan</th>\n",
       "      <th>year_disbu</th>\n",
       "      <th>month_plan</th>\n",
       "      <th>month_disbu</th>\n",
       "      <th>day_plan</th>\n",
       "      <th>day_disbu</th>\n",
       "      <th>tot_days</th>\n",
       "      <th>debitxday</th>\n",
       "    </tr>\n",
       "  </thead>\n",
       "  <tbody>\n",
       "    <tr>\n",
       "      <th>0</th>\n",
       "      <td>657307</td>\n",
       "      <td>2013-12-22 08:00:00+00:00</td>\n",
       "      <td>2014-02-14 03:30:06+00:00</td>\n",
       "      <td>125.0</td>\n",
       "      <td>2014.0</td>\n",
       "      <td>2013.0</td>\n",
       "      <td>2.0</td>\n",
       "      <td>12.0</td>\n",
       "      <td>14.0</td>\n",
       "      <td>22.0</td>\n",
       "      <td>53.0</td>\n",
       "      <td>2.358491</td>\n",
       "    </tr>\n",
       "    <tr>\n",
       "      <th>1</th>\n",
       "      <td>657259</td>\n",
       "      <td>2013-12-20 08:00:00+00:00</td>\n",
       "      <td>2014-03-26 22:25:07+00:00</td>\n",
       "      <td>400.0</td>\n",
       "      <td>2014.0</td>\n",
       "      <td>2013.0</td>\n",
       "      <td>3.0</td>\n",
       "      <td>12.0</td>\n",
       "      <td>26.0</td>\n",
       "      <td>20.0</td>\n",
       "      <td>96.0</td>\n",
       "      <td>4.166667</td>\n",
       "    </tr>\n",
       "    <tr>\n",
       "      <th>2</th>\n",
       "      <td>658010</td>\n",
       "      <td>2014-01-09 08:00:00+00:00</td>\n",
       "      <td>2014-02-15 21:10:05+00:00</td>\n",
       "      <td>400.0</td>\n",
       "      <td>2014.0</td>\n",
       "      <td>2014.0</td>\n",
       "      <td>2.0</td>\n",
       "      <td>1.0</td>\n",
       "      <td>15.0</td>\n",
       "      <td>9.0</td>\n",
       "      <td>37.0</td>\n",
       "      <td>10.810811</td>\n",
       "    </tr>\n",
       "    <tr>\n",
       "      <th>3</th>\n",
       "      <td>659347</td>\n",
       "      <td>2014-01-17 08:00:00+00:00</td>\n",
       "      <td>2014-02-21 03:10:02+00:00</td>\n",
       "      <td>625.0</td>\n",
       "      <td>2014.0</td>\n",
       "      <td>2014.0</td>\n",
       "      <td>2.0</td>\n",
       "      <td>1.0</td>\n",
       "      <td>21.0</td>\n",
       "      <td>17.0</td>\n",
       "      <td>34.0</td>\n",
       "      <td>18.382353</td>\n",
       "    </tr>\n",
       "    <tr>\n",
       "      <th>4</th>\n",
       "      <td>656933</td>\n",
       "      <td>2013-12-17 08:00:00+00:00</td>\n",
       "      <td>2014-02-13 06:10:02+00:00</td>\n",
       "      <td>425.0</td>\n",
       "      <td>2014.0</td>\n",
       "      <td>2013.0</td>\n",
       "      <td>2.0</td>\n",
       "      <td>12.0</td>\n",
       "      <td>13.0</td>\n",
       "      <td>17.0</td>\n",
       "      <td>57.0</td>\n",
       "      <td>7.456140</td>\n",
       "    </tr>\n",
       "  </tbody>\n",
       "</table>\n",
       "</div>"
      ],
      "text/plain": [
       "   loan_id             disburse_time   planned_expiration_time  loan_amount  \\\n",
       "0   657307 2013-12-22 08:00:00+00:00 2014-02-14 03:30:06+00:00        125.0   \n",
       "1   657259 2013-12-20 08:00:00+00:00 2014-03-26 22:25:07+00:00        400.0   \n",
       "2   658010 2014-01-09 08:00:00+00:00 2014-02-15 21:10:05+00:00        400.0   \n",
       "3   659347 2014-01-17 08:00:00+00:00 2014-02-21 03:10:02+00:00        625.0   \n",
       "4   656933 2013-12-17 08:00:00+00:00 2014-02-13 06:10:02+00:00        425.0   \n",
       "\n",
       "   year_plan  year_disbu  month_plan  month_disbu  day_plan  day_disbu  \\\n",
       "0     2014.0      2013.0         2.0         12.0      14.0       22.0   \n",
       "1     2014.0      2013.0         3.0         12.0      26.0       20.0   \n",
       "2     2014.0      2014.0         2.0          1.0      15.0        9.0   \n",
       "3     2014.0      2014.0         2.0          1.0      21.0       17.0   \n",
       "4     2014.0      2013.0         2.0         12.0      13.0       17.0   \n",
       "\n",
       "   tot_days  debitxday  \n",
       "0      53.0   2.358491  \n",
       "1      96.0   4.166667  \n",
       "2      37.0  10.810811  \n",
       "3      34.0  18.382353  \n",
       "4      57.0   7.456140  "
      ]
     },
     "execution_count": 13,
     "metadata": {},
     "output_type": "execute_result"
    },
    {
     "name": "stdout",
     "output_type": "stream",
     "text": [
      "time: 3.29 s\n"
     ]
    }
   ],
   "source": [
    "tot_loan = pd.DataFrame(columns = ['loan_id','disburse_time','planned_expiration_time','loan_amount','year_plan','year_disbu','month_plan','month_disbu','day_plan','day_disbu','tot_days'])\n",
    "tot_loan['loan_id'] = loans_csv['loan_id']\n",
    "tot_loan['disburse_time'] = data1\n",
    "tot_loan['planned_expiration_time'] = data2\n",
    "tot_loan['loan_amount'] = loans_csv['loan_amount']\n",
    "tot_loan['year_plan'] = loans_csv['year_plan']\n",
    "tot_loan['year_disbu'] = loans_csv['year_disbu']\n",
    "tot_loan['month_plan'] = loans_csv['month_plan']\n",
    "tot_loan['month_disbu'] = loans_csv['month_disbu']\n",
    "tot_loan['day_plan'] = loans_csv['day_plan']\n",
    "tot_loan['day_disbu'] = loans_csv['day_disbu']\n",
    "tot_loan['tot_days'] = loans_csv['duration']\n",
    "tot_loan['debitxday'] = tot_loan['loan_amount'] / tot_loan['tot_days']\n",
    "tot_loan.reset_index()\n",
    "tot_loan.head(5)\n",
    "#tot_loan.dtypes"
   ]
  },
  {
   "cell_type": "markdown",
   "metadata": {},
   "source": [
    "La question mi richiede di visualizzare due colonne: gli anni e l'amount pagato in quell'anno. \n",
    "Per arrivare a fare ciò ho prima di tutto capito quali sono gli anni che compaiono nella data 'disburse_time'."
   ]
  },
  {
   "cell_type": "code",
   "execution_count": 14,
   "metadata": {},
   "outputs": [
    {
     "name": "stdout",
     "output_type": "stream",
     "text": [
      "[2013. 2014. 2015. 2012. 2016. 2010. 2017. 2018. 2009. 2011. 2007.   nan\n",
      " 2006. 2008. 2005.]\n",
      "time: 137 ms\n"
     ]
    }
   ],
   "source": [
    "print(data1.dt.year.unique()) \n"
   ]
  },
  {
   "cell_type": "code",
   "execution_count": 15,
   "metadata": {},
   "outputs": [
    {
     "name": "stdout",
     "output_type": "stream",
     "text": [
      "time: 744 µs\n"
     ]
    }
   ],
   "source": [
    "#any(tot_loan['tot_days']>365)= TRUE -------> ho capito che ci sono delle date che \n",
    "                                              #iniziano in un anno e finiscono in anni successivi e quindi la differenza \n",
    "                                              #tra loro è maggiore di 365 giorni totali.\n",
    "#min(tot_loan['tot_days'])= -138 -----------> ci sono delle date negative\n",
    "#max(tot_loan['tot_days'])= 1673 -----------> il massimo di differenza tra le due date è di circa 4 anni e 6 mesi"
   ]
  },
  {
   "cell_type": "markdown",
   "metadata": {},
   "source": [
    "Ho creato un dizionario vuoto associato agli anni con range (2005:2018)"
   ]
  },
  {
   "cell_type": "code",
   "execution_count": 16,
   "metadata": {},
   "outputs": [
    {
     "name": "stdout",
     "output_type": "stream",
     "text": [
      "time: 1.79 ms\n"
     ]
    }
   ],
   "source": [
    "results={2005:0,2006:0,2007:0,2008:0,2009:0,2010:0,2011:0,2012:0,\n",
    "   2013:0,2014:0,2015:0,2016:0,2017:0,2018:0}\n"
   ]
  },
  {
   "cell_type": "markdown",
   "metadata": {},
   "source": [
    "Prima di riempire il dizionario con i dati finali, ho esplorato il dataset riscontrando alcuni problemi:\n",
    "ad esempio, qui di seguito viene riportato un ciclo che mi ha mostrato che tutte le 203 righe dell'anno 2005 hanno data di fine 'planned_expiration_time' mancante e data di inizio 'disburse_time' identiche:\n",
    "'2005-04-14 05:27:55+00:00'.\n",
    "\n",
    "Probabilmente si è di fronte ad un errore di imputazione o raccolta dati."
   ]
  },
  {
   "cell_type": "code",
   "execution_count": 17,
   "metadata": {},
   "outputs": [
    {
     "name": "stdout",
     "output_type": "stream",
     "text": [
      "time: 616 µs\n"
     ]
    }
   ],
   "source": [
    "#PROBLEMA NELL'ANNO 2005\n",
    "#count = 0\n",
    "#for i in range (len(tot_loan['loan_id'])):\n",
    "    #if tot_loan['year_disbu'][i]==2005:\n",
    "      #print(tot_loan['disburse_time'][i],tot_loan['planned_expiration_time'][i])\n",
    "       #count= count+1\n",
    "        \n",
    "        \n",
    "        \n",
    "#count = 203 "
   ]
  },
  {
   "cell_type": "markdown",
   "metadata": {},
   "source": [
    "Dopo aver riscontrato questo problema ho voluto controllare quante fossero in totale le righe con date mancanti e ho riscontrato che \n",
    "- le righe senza 'disburse_time' sono : 2811\n",
    "- le righe senza 'planned_expiration_time' sono : 371832\n",
    "- le righe senza entrambe le date sono solo 2\n",
    "- non esistono righe in cui 'loan_amount' sia nullo"
   ]
  },
  {
   "cell_type": "code",
   "execution_count": 18,
   "metadata": {},
   "outputs": [
    {
     "name": "stdout",
     "output_type": "stream",
     "text": [
      "time: 793 µs\n"
     ]
    }
   ],
   "source": [
    "#count_no_inizio=0\n",
    "#count_no_fine=0\n",
    "#count_nessuna=0\n",
    "#tot_amount_null=0\n",
    "#for i in range (len(tot_loan['loan_id'])):\n",
    "#   if np.isnan(tot_loan['year_disbu'][i]) and not(np.isnan(tot_loan['year_plan'][i])):\n",
    "#       count_no_inizio+=1\n",
    "#    if np.isnan(tot_loan['year_plan'][i]) and not(np.isnan(tot_loan['year_disbu'][i])):\n",
    "#        count_no_fine+=1\n",
    "#    if np.isnan(tot_loan['year_disbu'][i]) and np.isnan(tot_loan['year_plan'][i]):\n",
    "#        count_nessuna+=1\n",
    "#    if np.isnan(tot_loan['loan_amount'][i]):\n",
    "#        tot_amount_nul +=1"
   ]
  },
  {
   "cell_type": "code",
   "execution_count": 19,
   "metadata": {},
   "outputs": [
    {
     "name": "stdout",
     "output_type": "stream",
     "text": [
      "time: 606 µs\n"
     ]
    }
   ],
   "source": [
    "#print(count_no_inizio)= 2811\n",
    "#print(count_no_fine)= 371832\n",
    "#print(count_nessuna)=2\n",
    "#print(tot_amount_null)=0"
   ]
  },
  {
   "cell_type": "markdown",
   "metadata": {},
   "source": [
    "Ho creato una funzione 'daystoend' che prende una data come parametro e calcola i giorni trascorsi dalla data inserita a fine anno. E' utile per la suddivisione degli amount quando l'anno della data 'disburse_time' e l'anno della data 'planned_expiration_time' non coincidono."
   ]
  },
  {
   "cell_type": "code",
   "execution_count": 20,
   "metadata": {},
   "outputs": [
    {
     "name": "stdout",
     "output_type": "stream",
     "text": [
      "time: 2.84 ms\n"
     ]
    }
   ],
   "source": [
    "def daystoend (date, format='%Y-%m-%d'):\n",
    "    date = pd.to_datetime(date, format=format)\n",
    "    last_day = pd.Timestamp(year=date.year, month=12, day=31)\n",
    "    return (-1) * ((date - last_day).days + 1)"
   ]
  },
  {
   "cell_type": "code",
   "execution_count": 21,
   "metadata": {},
   "outputs": [
    {
     "name": "stdout",
     "output_type": "stream",
     "text": [
      "time: 3min 9s\n"
     ]
    }
   ],
   "source": [
    "for i in range (0, len(tot_loan['loan_id'])):\n",
    "    start_year = tot_loan['year_disbu'][i]      #ho rinominato le variabili così da poterle richiamare più velocemente all'interno del ciclo\n",
    "    end_year = tot_loan['year_plan'][i]    \n",
    "    tot_amount = tot_loan['loan_amount'][i]\n",
    "    \n",
    "    #con il primo if verifico i casi in cui l'anno di inizio 'disburse_time' esiste \n",
    "    #ma non l'anno di fine. Se ciò si verifica tutto l'amount viene destinato all'anno \n",
    "    #di inizio   \n",
    "    if np.isnan(end_year) and not(np.isnan(start_year)): \n",
    "        results[start_year] += round(tot_amount,2)\n",
    "        \n",
    "    #la seconda condizione verifica i casi in cui l'anno di inizio 'disburse_time' non esiste \n",
    "    #ma è presente l'anno di fine. Se ciò si verifica tutto l'amount viene destinato all'anno \n",
    "    #di fine. \n",
    "    elif np.isnan(start_year) and not(np.isnan(end_year)):\n",
    "        results[end_year] += round(tot_amount,2)\n",
    "   \n",
    "    else:\n",
    "        diff_year = end_year - start_year               #la variabile 'diff_year' calcola la differenza tra l'anno di fine e quello di inizio\n",
    "        diff_year = diff_year.astype(np.int64)\n",
    "\n",
    "        #la prima condizione verifica i casi in cui la differenza di anni sia uguale a 0, quindi l'anno di inizio e fine coincidono. \n",
    "        #Perciò l'intero amount viene inserito nell'anno corrispondente di inzio.\n",
    "        if diff_year == 0:\n",
    "            results[start_year] += round(tot_amount,2)\n",
    "            \n",
    "        #la seconda condizione verifica i casi in cui la differenza di anni sia maggiore di 0, quindi l'anno di inizio e fine non coincidono. \n",
    "        #Perciò l'intero amount viene suddiviso in modo proporzionato tra gli anni.\n",
    "        elif diff_year > 0:\n",
    "            \n",
    "            #'start_year_days' calcola i giorni totali che intercorrono tra la data di inizio e la fine dell'anno medesimo.\n",
    "            start_year_days = daystoend(tot_loan['disburse_time'][i].tz_localize(None), format='%Y%m%d') \n",
    "            \n",
    "            #'end_year_days' calcola quanti sono i giorni da considerare nell'ultimo anno (quello di 'planned_expiration_time')\n",
    "            end_year_days = tot_loan['tot_days'][i] - start_year_days-(365*(diff_year-1))\n",
    "            \n",
    "            #vengono aggiunti al dizionario sia nell'anno di inizio sia nell'anno finale l'amount corrispondente suddiviso per giorni\n",
    "            results[start_year] += round(tot_loan['debitxday'][i] * start_year_days,2)\n",
    "            results[end_year] += round(tot_loan['debitxday'][i] * end_year_days,2)\n",
    "            \n",
    "            #Nei casi in cui la differenza tra gli anni sia maggiore di 1 viene fatto un ciclo con range 1: diff_year -1 poiché vengono \n",
    "            #calcolati anche gli anni interi compresi tra quello iniziale e quello finale. \n",
    "            if diff_year > 1:\n",
    "                for j in range (1,diff_year - 1):\n",
    "                    results[start_year + j] += round(tot_loan['debitxday'][i] * 365,2)     \n",
    "                    \n",
    "                    \n",
    "#NON VENGONO PRESE IN CONSIDERAZIONE LE DATE CON 'PLANNED_EXPIRATION_TIME' PRECEDENTI A 'DISBURSE_TIME'\n",
    "#probabilmente ciò è dovuto ad un imputazione errata del dato"
   ]
  },
  {
   "cell_type": "markdown",
   "metadata": {},
   "source": [
    "Il dizionario risulta essere compilato come segue:\n",
    "    "
   ]
  },
  {
   "cell_type": "code",
   "execution_count": 22,
   "metadata": {},
   "outputs": [
    {
     "data": {
      "text/plain": [
       "{2005: 102850.0,\n",
       " 2006: 1376575.0,\n",
       " 2007: 15446525.0,\n",
       " 2008: 39423050.0,\n",
       " 2009: 59689475.0,\n",
       " 2010: 72609150.0,\n",
       " 2011: 91622343.70000002,\n",
       " 2012: 114069101.5200002,\n",
       " 2013: 124902657.51999913,\n",
       " 2014: 154056683.6200008,\n",
       " 2015: 162220572.52999973,\n",
       " 2016: 162652743.2699985,\n",
       " 2017: 175198059.39000055,\n",
       " 2018: 6496430.519999999}"
      ]
     },
     "execution_count": 22,
     "metadata": {},
     "output_type": "execute_result"
    },
    {
     "name": "stdout",
     "output_type": "stream",
     "text": [
      "time: 11 ms\n"
     ]
    }
   ],
   "source": [
    "results"
   ]
  },
  {
   "cell_type": "markdown",
   "metadata": {},
   "source": [
    "# QUESTION 3)\n",
    "-  Find the lenders that have funded at least twice"
   ]
  },
  {
   "cell_type": "markdown",
   "metadata": {},
   "source": [
    "Per riuscire a calcolare quante volte ogni lenders abbia contribuito a un prestito, è stato necessario riutilizzare il dataframe normalizzato creato al punto 1.\n",
    "\n",
    "Applicando una groupby settando lenders come parola chiave otteniamo un conto di quante volte ogni prestatore contribuisce ad un prestito"
   ]
  },
  {
   "cell_type": "code",
   "execution_count": 23,
   "metadata": {},
   "outputs": [
    {
     "data": {
      "text/html": [
       "<div>\n",
       "<style scoped>\n",
       "    .dataframe tbody tr th:only-of-type {\n",
       "        vertical-align: middle;\n",
       "    }\n",
       "\n",
       "    .dataframe tbody tr th {\n",
       "        vertical-align: top;\n",
       "    }\n",
       "\n",
       "    .dataframe thead th {\n",
       "        text-align: right;\n",
       "    }\n",
       "</style>\n",
       "<table border=\"1\" class=\"dataframe\">\n",
       "  <thead>\n",
       "    <tr style=\"text-align: right;\">\n",
       "      <th></th>\n",
       "      <th>lenders</th>\n",
       "      <th>count</th>\n",
       "    </tr>\n",
       "  </thead>\n",
       "  <tbody>\n",
       "    <tr>\n",
       "      <th>0</th>\n",
       "      <td>000</td>\n",
       "      <td>40</td>\n",
       "    </tr>\n",
       "    <tr>\n",
       "      <th>1</th>\n",
       "      <td>00000</td>\n",
       "      <td>39</td>\n",
       "    </tr>\n",
       "    <tr>\n",
       "      <th>2</th>\n",
       "      <td>0002</td>\n",
       "      <td>70</td>\n",
       "    </tr>\n",
       "    <tr>\n",
       "      <th>3</th>\n",
       "      <td>00mike00</td>\n",
       "      <td>1</td>\n",
       "    </tr>\n",
       "    <tr>\n",
       "      <th>4</th>\n",
       "      <td>0101craign0101</td>\n",
       "      <td>71</td>\n",
       "    </tr>\n",
       "    <tr>\n",
       "      <th>5</th>\n",
       "      <td>0132575</td>\n",
       "      <td>4</td>\n",
       "    </tr>\n",
       "    <tr>\n",
       "      <th>6</th>\n",
       "      <td>0154884</td>\n",
       "      <td>4</td>\n",
       "    </tr>\n",
       "    <tr>\n",
       "      <th>7</th>\n",
       "      <td>0161130</td>\n",
       "      <td>3</td>\n",
       "    </tr>\n",
       "    <tr>\n",
       "      <th>8</th>\n",
       "      <td>0169713</td>\n",
       "      <td>4</td>\n",
       "    </tr>\n",
       "    <tr>\n",
       "      <th>9</th>\n",
       "      <td>0185429</td>\n",
       "      <td>2</td>\n",
       "    </tr>\n",
       "  </tbody>\n",
       "</table>\n",
       "</div>"
      ],
      "text/plain": [
       "          lenders  count\n",
       "0             000     40\n",
       "1           00000     39\n",
       "2            0002     70\n",
       "3        00mike00      1\n",
       "4  0101craign0101     71\n",
       "5         0132575      4\n",
       "6         0154884      4\n",
       "7         0161130      3\n",
       "8         0169713      4\n",
       "9         0185429      2"
      ]
     },
     "execution_count": 23,
     "metadata": {},
     "output_type": "execute_result"
    },
    {
     "name": "stdout",
     "output_type": "stream",
     "text": [
      "time: 33.1 s\n"
     ]
    }
   ],
   "source": [
    "tot_lenders = norm_loans_lenders.groupby('lenders').size().reset_index()\n",
    "tot_lenders.columns = ['lenders','count']\n",
    "tot_lenders.head(10)"
   ]
  },
  {
   "cell_type": "markdown",
   "metadata": {},
   "source": [
    "Successivamente, impongo una condizione 'count>1' in modo da ottenere una tabella che includa solo i lenders che hanno finanziato un prestito almeno 2 volte."
   ]
  },
  {
   "cell_type": "code",
   "execution_count": 24,
   "metadata": {},
   "outputs": [
    {
     "data": {
      "text/html": [
       "<div>\n",
       "<style scoped>\n",
       "    .dataframe tbody tr th:only-of-type {\n",
       "        vertical-align: middle;\n",
       "    }\n",
       "\n",
       "    .dataframe tbody tr th {\n",
       "        vertical-align: top;\n",
       "    }\n",
       "\n",
       "    .dataframe thead th {\n",
       "        text-align: right;\n",
       "    }\n",
       "</style>\n",
       "<table border=\"1\" class=\"dataframe\">\n",
       "  <thead>\n",
       "    <tr style=\"text-align: right;\">\n",
       "      <th></th>\n",
       "      <th>lenders</th>\n",
       "      <th>count</th>\n",
       "    </tr>\n",
       "  </thead>\n",
       "  <tbody>\n",
       "    <tr>\n",
       "      <th>0</th>\n",
       "      <td>000</td>\n",
       "      <td>40</td>\n",
       "    </tr>\n",
       "    <tr>\n",
       "      <th>1</th>\n",
       "      <td>00000</td>\n",
       "      <td>39</td>\n",
       "    </tr>\n",
       "    <tr>\n",
       "      <th>2</th>\n",
       "      <td>0002</td>\n",
       "      <td>70</td>\n",
       "    </tr>\n",
       "    <tr>\n",
       "      <th>4</th>\n",
       "      <td>0101craign0101</td>\n",
       "      <td>71</td>\n",
       "    </tr>\n",
       "    <tr>\n",
       "      <th>5</th>\n",
       "      <td>0132575</td>\n",
       "      <td>4</td>\n",
       "    </tr>\n",
       "    <tr>\n",
       "      <th>6</th>\n",
       "      <td>0154884</td>\n",
       "      <td>4</td>\n",
       "    </tr>\n",
       "    <tr>\n",
       "      <th>7</th>\n",
       "      <td>0161130</td>\n",
       "      <td>3</td>\n",
       "    </tr>\n",
       "    <tr>\n",
       "      <th>8</th>\n",
       "      <td>0169713</td>\n",
       "      <td>4</td>\n",
       "    </tr>\n",
       "    <tr>\n",
       "      <th>9</th>\n",
       "      <td>0185429</td>\n",
       "      <td>2</td>\n",
       "    </tr>\n",
       "    <tr>\n",
       "      <th>10</th>\n",
       "      <td>0197462</td>\n",
       "      <td>2</td>\n",
       "    </tr>\n",
       "  </tbody>\n",
       "</table>\n",
       "</div>"
      ],
      "text/plain": [
       "           lenders  count\n",
       "0              000     40\n",
       "1            00000     39\n",
       "2             0002     70\n",
       "4   0101craign0101     71\n",
       "5          0132575      4\n",
       "6          0154884      4\n",
       "7          0161130      3\n",
       "8          0169713      4\n",
       "9          0185429      2\n",
       "10         0197462      2"
      ]
     },
     "execution_count": 24,
     "metadata": {},
     "output_type": "execute_result"
    },
    {
     "name": "stdout",
     "output_type": "stream",
     "text": [
      "time: 137 ms\n"
     ]
    }
   ],
   "source": [
    "count_lenders = tot_lenders[tot_lenders['count']>1]\n",
    "count_lenders.head(10)"
   ]
  },
  {
   "cell_type": "markdown",
   "metadata": {},
   "source": [
    "Coloro che hanno effettuato un prestito sono 1383799 e coloro che hanno effettuato più di 2 prestiti sono 901811 "
   ]
  },
  {
   "cell_type": "code",
   "execution_count": 25,
   "metadata": {},
   "outputs": [
    {
     "name": "stdout",
     "output_type": "stream",
     "text": [
      "time: 688 µs\n"
     ]
    }
   ],
   "source": [
    "#len(tot_lenders) = 1383799\n",
    "#len(count_lenders) = 901811 "
   ]
  },
  {
   "cell_type": "markdown",
   "metadata": {},
   "source": [
    "# QUESTION 4)\n",
    "- For each country, compute how many loans have involved that country as borrowers"
   ]
  },
  {
   "cell_type": "markdown",
   "metadata": {},
   "source": [
    "Prima di risolvere il quesito è stata necessaria una fase di pulizia dei dati del file 'loans_csv': ho deciso di utilizzare il 'country_code' al posto di 'country_name', per effettuare queste verifiche poichè mi consente di collegarmi alla tabella 'country_stats', in modo univoco.\n",
    "\n",
    "La tabella 'country_stats' è stata dunque utilizzata come riferimento per le informazioni riguardanti le caratteristiche geografiche. \n",
    "\n",
    "Importo il dataframe 'country_stats' tramite pandas."
   ]
  },
  {
   "cell_type": "code",
   "execution_count": 26,
   "metadata": {},
   "outputs": [
    {
     "name": "stdout",
     "output_type": "stream",
     "text": [
      "time: 82.6 ms\n"
     ]
    }
   ],
   "source": [
    "country_stats=pd.read_csv(r'./cs/country_stats.csv')\n",
    "#country_stats.columns"
   ]
  },
  {
   "cell_type": "code",
   "execution_count": 27,
   "metadata": {},
   "outputs": [
    {
     "name": "stdout",
     "output_type": "stream",
     "text": [
      "time: 516 µs\n"
     ]
    }
   ],
   "source": [
    "#loans_csv.isna().any()\n",
    "#loans_csv.isna().any().sum()\n",
    "#loans_csv.columns"
   ]
  },
  {
   "cell_type": "markdown",
   "metadata": {},
   "source": [
    "Noto che per quanto riguarda il dataframe 'loans.csv' l'unico 'country_code' mancante è quello riferito alla nazione Namibia."
   ]
  },
  {
   "cell_type": "code",
   "execution_count": 28,
   "metadata": {},
   "outputs": [
    {
     "data": {
      "text/html": [
       "<div>\n",
       "<style scoped>\n",
       "    .dataframe tbody tr th:only-of-type {\n",
       "        vertical-align: middle;\n",
       "    }\n",
       "\n",
       "    .dataframe tbody tr th {\n",
       "        vertical-align: top;\n",
       "    }\n",
       "\n",
       "    .dataframe thead th {\n",
       "        text-align: right;\n",
       "    }\n",
       "</style>\n",
       "<table border=\"1\" class=\"dataframe\">\n",
       "  <thead>\n",
       "    <tr style=\"text-align: right;\">\n",
       "      <th></th>\n",
       "      <th>country_code</th>\n",
       "      <th>country_name</th>\n",
       "    </tr>\n",
       "  </thead>\n",
       "  <tbody>\n",
       "    <tr>\n",
       "      <th>82889</th>\n",
       "      <td>NaN</td>\n",
       "      <td>Namibia</td>\n",
       "    </tr>\n",
       "    <tr>\n",
       "      <th>156970</th>\n",
       "      <td>NaN</td>\n",
       "      <td>Namibia</td>\n",
       "    </tr>\n",
       "    <tr>\n",
       "      <th>598087</th>\n",
       "      <td>NaN</td>\n",
       "      <td>Namibia</td>\n",
       "    </tr>\n",
       "    <tr>\n",
       "      <th>684876</th>\n",
       "      <td>NaN</td>\n",
       "      <td>Namibia</td>\n",
       "    </tr>\n",
       "    <tr>\n",
       "      <th>971827</th>\n",
       "      <td>NaN</td>\n",
       "      <td>Namibia</td>\n",
       "    </tr>\n",
       "    <tr>\n",
       "      <th>1134818</th>\n",
       "      <td>NaN</td>\n",
       "      <td>Namibia</td>\n",
       "    </tr>\n",
       "    <tr>\n",
       "      <th>1214923</th>\n",
       "      <td>NaN</td>\n",
       "      <td>Namibia</td>\n",
       "    </tr>\n",
       "    <tr>\n",
       "      <th>1281022</th>\n",
       "      <td>NaN</td>\n",
       "      <td>Namibia</td>\n",
       "    </tr>\n",
       "    <tr>\n",
       "      <th>1415763</th>\n",
       "      <td>NaN</td>\n",
       "      <td>Namibia</td>\n",
       "    </tr>\n",
       "  </tbody>\n",
       "</table>\n",
       "</div>"
      ],
      "text/plain": [
       "        country_code country_name\n",
       "82889            NaN      Namibia\n",
       "156970           NaN      Namibia\n",
       "598087           NaN      Namibia\n",
       "684876           NaN      Namibia\n",
       "971827           NaN      Namibia\n",
       "1134818          NaN      Namibia\n",
       "1214923          NaN      Namibia\n",
       "1281022          NaN      Namibia\n",
       "1415763          NaN      Namibia"
      ]
     },
     "execution_count": 28,
     "metadata": {},
     "output_type": "execute_result"
    },
    {
     "name": "stdout",
     "output_type": "stream",
     "text": [
      "time: 624 ms\n"
     ]
    }
   ],
   "source": [
    "loans_csv[['country_code','country_name']][loans_csv['country_code'].isnull()]"
   ]
  },
  {
   "cell_type": "markdown",
   "metadata": {},
   "source": [
    "Allo stesso modo, controllo anche il dataframe 'country_stats' e noto che anche al suo interno l'unico country_code mancante è quello\n",
    "della Namibia."
   ]
  },
  {
   "cell_type": "code",
   "execution_count": 29,
   "metadata": {},
   "outputs": [
    {
     "data": {
      "text/html": [
       "<div>\n",
       "<style scoped>\n",
       "    .dataframe tbody tr th:only-of-type {\n",
       "        vertical-align: middle;\n",
       "    }\n",
       "\n",
       "    .dataframe tbody tr th {\n",
       "        vertical-align: top;\n",
       "    }\n",
       "\n",
       "    .dataframe thead th {\n",
       "        text-align: right;\n",
       "    }\n",
       "</style>\n",
       "<table border=\"1\" class=\"dataframe\">\n",
       "  <thead>\n",
       "    <tr style=\"text-align: right;\">\n",
       "      <th></th>\n",
       "      <th>country_name</th>\n",
       "      <th>country_code</th>\n",
       "    </tr>\n",
       "  </thead>\n",
       "  <tbody>\n",
       "    <tr>\n",
       "      <th>115</th>\n",
       "      <td>Namibia</td>\n",
       "      <td>NaN</td>\n",
       "    </tr>\n",
       "  </tbody>\n",
       "</table>\n",
       "</div>"
      ],
      "text/plain": [
       "    country_name country_code\n",
       "115      Namibia          NaN"
      ]
     },
     "execution_count": 29,
     "metadata": {},
     "output_type": "execute_result"
    },
    {
     "name": "stdout",
     "output_type": "stream",
     "text": [
      "time: 14.2 ms\n"
     ]
    }
   ],
   "source": [
    "country_stats[['country_name','country_code']][country_stats['country_code'].isnull()]"
   ]
  },
  {
   "cell_type": "markdown",
   "metadata": {},
   "source": [
    "Decido quindi di imputare il codice stringa 'NB' riferito alla nazione Namibia per rimpiazzare i valori mancanti da entrambi i dataframe."
   ]
  },
  {
   "cell_type": "code",
   "execution_count": 30,
   "metadata": {},
   "outputs": [
    {
     "name": "stdout",
     "output_type": "stream",
     "text": [
      "time: 207 ms\n"
     ]
    }
   ],
   "source": [
    "loans_csv['country_code'] = loans_csv['country_code'].fillna(value='NB')\n",
    "country_stats['country_code'] = country_stats['country_code'].fillna(value='NB')"
   ]
  },
  {
   "cell_type": "code",
   "execution_count": 31,
   "metadata": {},
   "outputs": [
    {
     "name": "stdout",
     "output_type": "stream",
     "text": [
      "time: 450 µs\n"
     ]
    }
   ],
   "source": [
    "#Questi sono gli stessi codici utilizzati in precedenza come verifica: controllo che i valori mancanti siano stati \n",
    "#effettivamente rimpiazzati.\n",
    "\n",
    "#loans_csv[['country_code','country_name']][loans_csv['country_code'].isnull()]\n",
    "#country_stats[['country_name','country_code']][country_stats['country_code'].isnull()]"
   ]
  },
  {
   "cell_type": "markdown",
   "metadata": {},
   "source": [
    "Successivamente, decido di controllare se ci sono dei paesi che compaiono solo in uno dei due dataframe e scopro che ci sono 5 paesi che compaiono in 'loans_csv' e non in 'stats_csv':\n",
    "'GZ'= Gaza, 'VC'= Saint Vincent and the Grenadines, 'VI'= Virgin Island, 'VU'= Vanuatu, 'GU'=Guam."
   ]
  },
  {
   "cell_type": "code",
   "execution_count": 32,
   "metadata": {},
   "outputs": [
    {
     "name": "stdout",
     "output_type": "stream",
     "text": [
      "['GZ', 'VC', 'VI', 'VU', 'GU']\n",
      "time: 101 ms\n"
     ]
    }
   ],
   "source": [
    "check = []\n",
    "for i in (loans_csv['country_code'].unique()):\n",
    "    if i not in country_stats['country_code'].unique():\n",
    "        check.append(i)\n",
    "print(check)"
   ]
  },
  {
   "cell_type": "markdown",
   "metadata": {},
   "source": [
    "Dal momento che in prima battuta ho pensato fosse meglio prendere come tabella di riferimento per le nazioni 'country_stats' decido di eliminare le righe corrispondenti a questi 5 paesi."
   ]
  },
  {
   "cell_type": "code",
   "execution_count": 33,
   "metadata": {},
   "outputs": [
    {
     "name": "stdout",
     "output_type": "stream",
     "text": [
      "time: 24.4 s\n"
     ]
    }
   ],
   "source": [
    "for i in check:\n",
    "    loans_csv = loans_csv.drop(loans_csv.loc[loans_csv['country_code'] == i].index)"
   ]
  },
  {
   "cell_type": "markdown",
   "metadata": {},
   "source": [
    "Avendo risolto i vari problemi di pulizia del dataframe, decido di risolvere il quesito appplicando una groupby per 'country_code' al fine di calcolare il numero di richieste di prestito provenienti da ciascuna nazione e metto le informazioni all'interno di un nuovo dataframe."
   ]
  },
  {
   "cell_type": "code",
   "execution_count": 34,
   "metadata": {},
   "outputs": [
    {
     "data": {
      "text/html": [
       "<div>\n",
       "<style scoped>\n",
       "    .dataframe tbody tr th:only-of-type {\n",
       "        vertical-align: middle;\n",
       "    }\n",
       "\n",
       "    .dataframe tbody tr th {\n",
       "        vertical-align: top;\n",
       "    }\n",
       "\n",
       "    .dataframe thead th {\n",
       "        text-align: right;\n",
       "    }\n",
       "</style>\n",
       "<table border=\"1\" class=\"dataframe\">\n",
       "  <thead>\n",
       "    <tr style=\"text-align: right;\">\n",
       "      <th></th>\n",
       "      <th>country_code</th>\n",
       "      <th>borrowers</th>\n",
       "    </tr>\n",
       "  </thead>\n",
       "  <tbody>\n",
       "    <tr>\n",
       "      <th>0</th>\n",
       "      <td>AF</td>\n",
       "      <td>2337</td>\n",
       "    </tr>\n",
       "    <tr>\n",
       "      <th>1</th>\n",
       "      <td>AL</td>\n",
       "      <td>3075</td>\n",
       "    </tr>\n",
       "    <tr>\n",
       "      <th>2</th>\n",
       "      <td>AM</td>\n",
       "      <td>13952</td>\n",
       "    </tr>\n",
       "    <tr>\n",
       "      <th>3</th>\n",
       "      <td>AZ</td>\n",
       "      <td>10172</td>\n",
       "    </tr>\n",
       "    <tr>\n",
       "      <th>4</th>\n",
       "      <td>BA</td>\n",
       "      <td>608</td>\n",
       "    </tr>\n",
       "    <tr>\n",
       "      <th>5</th>\n",
       "      <td>BF</td>\n",
       "      <td>3489</td>\n",
       "    </tr>\n",
       "    <tr>\n",
       "      <th>6</th>\n",
       "      <td>BG</td>\n",
       "      <td>296</td>\n",
       "    </tr>\n",
       "    <tr>\n",
       "      <th>7</th>\n",
       "      <td>BI</td>\n",
       "      <td>1727</td>\n",
       "    </tr>\n",
       "    <tr>\n",
       "      <th>8</th>\n",
       "      <td>BJ</td>\n",
       "      <td>5946</td>\n",
       "    </tr>\n",
       "    <tr>\n",
       "      <th>9</th>\n",
       "      <td>BO</td>\n",
       "      <td>25250</td>\n",
       "    </tr>\n",
       "  </tbody>\n",
       "</table>\n",
       "</div>"
      ],
      "text/plain": [
       "  country_code  borrowers\n",
       "0           AF       2337\n",
       "1           AL       3075\n",
       "2           AM      13952\n",
       "3           AZ      10172\n",
       "4           BA        608\n",
       "5           BF       3489\n",
       "6           BG        296\n",
       "7           BI       1727\n",
       "8           BJ       5946\n",
       "9           BO      25250"
      ]
     },
     "execution_count": 34,
     "metadata": {},
     "output_type": "execute_result"
    },
    {
     "name": "stdout",
     "output_type": "stream",
     "text": [
      "time: 149 ms\n"
     ]
    }
   ],
   "source": [
    "borrowers = pd.DataFrame(loans_csv.groupby('country_code').size().reset_index().rename(columns={0:'borrowers'}))\n",
    "borrowers.head(10)"
   ]
  },
  {
   "cell_type": "markdown",
   "metadata": {},
   "source": [
    "# QUESTION 5)\n",
    "- For each country, compute the overall amount of money borrowed"
   ]
  },
  {
   "cell_type": "markdown",
   "metadata": {},
   "source": [
    "Al fine di rispondere correttamente ai prossimi quesiti è stato necessario fare un ragionamento a priori:\n",
    "- ho considerato la variabile 'funded_amount' come l'ammontare di denaro preso in prestito da altri paesi (ovvero dei fondi)\n",
    "- mentre ho considerato la variabile 'loan_amount' come l'ammontare che la nazione ha prestato ad altri.\n",
    "\n",
    "Per rispondere al quesito 5) ho inteso i money borrowed, come quelli presi in presito e ho utilizzato quindi la variabile 'funded_amount'.\n"
   ]
  },
  {
   "cell_type": "markdown",
   "metadata": {},
   "source": [
    "Ho applicato una groupby per paese e effettuato la somma della colonna 'funded_amount' rispetto al country_code e \n",
    "ho inserito tutte le informazioni all'interno di un dataframe."
   ]
  },
  {
   "cell_type": "code",
   "execution_count": 35,
   "metadata": {},
   "outputs": [
    {
     "data": {
      "text/html": [
       "<div>\n",
       "<style scoped>\n",
       "    .dataframe tbody tr th:only-of-type {\n",
       "        vertical-align: middle;\n",
       "    }\n",
       "\n",
       "    .dataframe tbody tr th {\n",
       "        vertical-align: top;\n",
       "    }\n",
       "\n",
       "    .dataframe thead th {\n",
       "        text-align: right;\n",
       "    }\n",
       "</style>\n",
       "<table border=\"1\" class=\"dataframe\">\n",
       "  <thead>\n",
       "    <tr style=\"text-align: right;\">\n",
       "      <th></th>\n",
       "      <th>country_code</th>\n",
       "      <th>funded_amount</th>\n",
       "    </tr>\n",
       "  </thead>\n",
       "  <tbody>\n",
       "    <tr>\n",
       "      <th>0</th>\n",
       "      <td>AF</td>\n",
       "      <td>1964650.0</td>\n",
       "    </tr>\n",
       "    <tr>\n",
       "      <th>1</th>\n",
       "      <td>AL</td>\n",
       "      <td>3992475.0</td>\n",
       "    </tr>\n",
       "    <tr>\n",
       "      <th>2</th>\n",
       "      <td>AM</td>\n",
       "      <td>20284675.0</td>\n",
       "    </tr>\n",
       "    <tr>\n",
       "      <th>3</th>\n",
       "      <td>AZ</td>\n",
       "      <td>14191350.0</td>\n",
       "    </tr>\n",
       "    <tr>\n",
       "      <th>4</th>\n",
       "      <td>BA</td>\n",
       "      <td>477250.0</td>\n",
       "    </tr>\n",
       "    <tr>\n",
       "      <th>5</th>\n",
       "      <td>BF</td>\n",
       "      <td>4042950.0</td>\n",
       "    </tr>\n",
       "    <tr>\n",
       "      <th>6</th>\n",
       "      <td>BG</td>\n",
       "      <td>375300.0</td>\n",
       "    </tr>\n",
       "    <tr>\n",
       "      <th>7</th>\n",
       "      <td>BI</td>\n",
       "      <td>5119300.0</td>\n",
       "    </tr>\n",
       "    <tr>\n",
       "      <th>8</th>\n",
       "      <td>BJ</td>\n",
       "      <td>3829925.0</td>\n",
       "    </tr>\n",
       "    <tr>\n",
       "      <th>9</th>\n",
       "      <td>BO</td>\n",
       "      <td>41814950.0</td>\n",
       "    </tr>\n",
       "  </tbody>\n",
       "</table>\n",
       "</div>"
      ],
      "text/plain": [
       "  country_code  funded_amount\n",
       "0           AF      1964650.0\n",
       "1           AL      3992475.0\n",
       "2           AM     20284675.0\n",
       "3           AZ     14191350.0\n",
       "4           BA       477250.0\n",
       "5           BF      4042950.0\n",
       "6           BG       375300.0\n",
       "7           BI      5119300.0\n",
       "8           BJ      3829925.0\n",
       "9           BO     41814950.0"
      ]
     },
     "execution_count": 35,
     "metadata": {},
     "output_type": "execute_result"
    },
    {
     "name": "stdout",
     "output_type": "stream",
     "text": [
      "time: 201 ms\n"
     ]
    }
   ],
   "source": [
    "money_borrowed = pd.DataFrame(loans_csv[['country_code','funded_amount']].groupby('country_code').sum()).reset_index()\n",
    "money_borrowed.head(10)"
   ]
  },
  {
   "cell_type": "markdown",
   "metadata": {},
   "source": [
    "# QUESTION 6)\n",
    "- Like the previous point, but expressed as a percentage of the overall amount lent."
   ]
  },
  {
   "cell_type": "markdown",
   "metadata": {},
   "source": [
    "Come per il punto precedente (dopo aver deciso che il totale 'lent' si riferisse alla colonna 'loan_amount' e quindi \n",
    "ai soldi che i paesi hanno prestato ad altri), decido di calcolare tramite una grupby e una somma  il totale dei prestiti per paese."
   ]
  },
  {
   "cell_type": "code",
   "execution_count": 36,
   "metadata": {},
   "outputs": [
    {
     "data": {
      "text/html": [
       "<div>\n",
       "<style scoped>\n",
       "    .dataframe tbody tr th:only-of-type {\n",
       "        vertical-align: middle;\n",
       "    }\n",
       "\n",
       "    .dataframe tbody tr th {\n",
       "        vertical-align: top;\n",
       "    }\n",
       "\n",
       "    .dataframe thead th {\n",
       "        text-align: right;\n",
       "    }\n",
       "</style>\n",
       "<table border=\"1\" class=\"dataframe\">\n",
       "  <thead>\n",
       "    <tr style=\"text-align: right;\">\n",
       "      <th></th>\n",
       "      <th>country_code</th>\n",
       "      <th>loan_amount</th>\n",
       "    </tr>\n",
       "  </thead>\n",
       "  <tbody>\n",
       "    <tr>\n",
       "      <th>0</th>\n",
       "      <td>AF</td>\n",
       "      <td>1967950.0</td>\n",
       "    </tr>\n",
       "    <tr>\n",
       "      <th>1</th>\n",
       "      <td>AL</td>\n",
       "      <td>4307350.0</td>\n",
       "    </tr>\n",
       "    <tr>\n",
       "      <th>2</th>\n",
       "      <td>AM</td>\n",
       "      <td>22950475.0</td>\n",
       "    </tr>\n",
       "    <tr>\n",
       "      <th>3</th>\n",
       "      <td>AZ</td>\n",
       "      <td>14784625.0</td>\n",
       "    </tr>\n",
       "    <tr>\n",
       "      <th>4</th>\n",
       "      <td>BA</td>\n",
       "      <td>477250.0</td>\n",
       "    </tr>\n",
       "    <tr>\n",
       "      <th>5</th>\n",
       "      <td>BF</td>\n",
       "      <td>4085200.0</td>\n",
       "    </tr>\n",
       "    <tr>\n",
       "      <th>6</th>\n",
       "      <td>BG</td>\n",
       "      <td>375300.0</td>\n",
       "    </tr>\n",
       "    <tr>\n",
       "      <th>7</th>\n",
       "      <td>BI</td>\n",
       "      <td>5233450.0</td>\n",
       "    </tr>\n",
       "    <tr>\n",
       "      <th>8</th>\n",
       "      <td>BJ</td>\n",
       "      <td>3865825.0</td>\n",
       "    </tr>\n",
       "    <tr>\n",
       "      <th>9</th>\n",
       "      <td>BO</td>\n",
       "      <td>44226725.0</td>\n",
       "    </tr>\n",
       "  </tbody>\n",
       "</table>\n",
       "</div>"
      ],
      "text/plain": [
       "  country_code  loan_amount\n",
       "0           AF    1967950.0\n",
       "1           AL    4307350.0\n",
       "2           AM   22950475.0\n",
       "3           AZ   14784625.0\n",
       "4           BA     477250.0\n",
       "5           BF    4085200.0\n",
       "6           BG     375300.0\n",
       "7           BI    5233450.0\n",
       "8           BJ    3865825.0\n",
       "9           BO   44226725.0"
      ]
     },
     "execution_count": 36,
     "metadata": {},
     "output_type": "execute_result"
    },
    {
     "name": "stdout",
     "output_type": "stream",
     "text": [
      "time: 139 ms\n"
     ]
    }
   ],
   "source": [
    "money_lent = pd.DataFrame(loans_csv[['country_code','loan_amount']].groupby('country_code').sum()).reset_index()\n",
    "money_lent.head(10)"
   ]
  },
  {
   "cell_type": "markdown",
   "metadata": {},
   "source": [
    "Successivamente, per calcolare la percentuale di ammontare dei prestiti che hanno coinvolto ciascuna nazione come richiedente, sull'ammontare che l'ha coinvolta come prestatrice ho creato un nuovo dataframe che mostrasse le variabili 'country_code', 'funded amount', 'loan_amount' e 'percentage'. \n",
    "La percentuale è stata calcolata dividendo il 'funded amount' per il 'loan amount' *100. \n",
    "\n",
    "Quando la percentuale si avvicina a 100, significa che il paese ha donato tanto quanto ha preso in prestito."
   ]
  },
  {
   "cell_type": "code",
   "execution_count": 37,
   "metadata": {},
   "outputs": [
    {
     "data": {
      "text/html": [
       "<div>\n",
       "<style scoped>\n",
       "    .dataframe tbody tr th:only-of-type {\n",
       "        vertical-align: middle;\n",
       "    }\n",
       "\n",
       "    .dataframe tbody tr th {\n",
       "        vertical-align: top;\n",
       "    }\n",
       "\n",
       "    .dataframe thead th {\n",
       "        text-align: right;\n",
       "    }\n",
       "</style>\n",
       "<table border=\"1\" class=\"dataframe\">\n",
       "  <thead>\n",
       "    <tr style=\"text-align: right;\">\n",
       "      <th></th>\n",
       "      <th>country_code</th>\n",
       "      <th>funded_amount</th>\n",
       "      <th>loan_amount</th>\n",
       "      <th>percentage</th>\n",
       "    </tr>\n",
       "  </thead>\n",
       "  <tbody>\n",
       "    <tr>\n",
       "      <th>0</th>\n",
       "      <td>AF</td>\n",
       "      <td>1964650.0</td>\n",
       "      <td>1967950.0</td>\n",
       "      <td>99.83</td>\n",
       "    </tr>\n",
       "    <tr>\n",
       "      <th>1</th>\n",
       "      <td>AL</td>\n",
       "      <td>3992475.0</td>\n",
       "      <td>4307350.0</td>\n",
       "      <td>92.69</td>\n",
       "    </tr>\n",
       "    <tr>\n",
       "      <th>2</th>\n",
       "      <td>AM</td>\n",
       "      <td>20284675.0</td>\n",
       "      <td>22950475.0</td>\n",
       "      <td>88.38</td>\n",
       "    </tr>\n",
       "    <tr>\n",
       "      <th>3</th>\n",
       "      <td>AZ</td>\n",
       "      <td>14191350.0</td>\n",
       "      <td>14784625.0</td>\n",
       "      <td>95.99</td>\n",
       "    </tr>\n",
       "    <tr>\n",
       "      <th>4</th>\n",
       "      <td>BA</td>\n",
       "      <td>477250.0</td>\n",
       "      <td>477250.0</td>\n",
       "      <td>100.00</td>\n",
       "    </tr>\n",
       "    <tr>\n",
       "      <th>5</th>\n",
       "      <td>BF</td>\n",
       "      <td>4042950.0</td>\n",
       "      <td>4085200.0</td>\n",
       "      <td>98.97</td>\n",
       "    </tr>\n",
       "    <tr>\n",
       "      <th>6</th>\n",
       "      <td>BG</td>\n",
       "      <td>375300.0</td>\n",
       "      <td>375300.0</td>\n",
       "      <td>100.00</td>\n",
       "    </tr>\n",
       "    <tr>\n",
       "      <th>7</th>\n",
       "      <td>BI</td>\n",
       "      <td>5119300.0</td>\n",
       "      <td>5233450.0</td>\n",
       "      <td>97.82</td>\n",
       "    </tr>\n",
       "    <tr>\n",
       "      <th>8</th>\n",
       "      <td>BJ</td>\n",
       "      <td>3829925.0</td>\n",
       "      <td>3865825.0</td>\n",
       "      <td>99.07</td>\n",
       "    </tr>\n",
       "    <tr>\n",
       "      <th>9</th>\n",
       "      <td>BO</td>\n",
       "      <td>41814950.0</td>\n",
       "      <td>44226725.0</td>\n",
       "      <td>94.55</td>\n",
       "    </tr>\n",
       "  </tbody>\n",
       "</table>\n",
       "</div>"
      ],
      "text/plain": [
       "  country_code  funded_amount  loan_amount  percentage\n",
       "0           AF      1964650.0    1967950.0       99.83\n",
       "1           AL      3992475.0    4307350.0       92.69\n",
       "2           AM     20284675.0   22950475.0       88.38\n",
       "3           AZ     14191350.0   14784625.0       95.99\n",
       "4           BA       477250.0     477250.0      100.00\n",
       "5           BF      4042950.0    4085200.0       98.97\n",
       "6           BG       375300.0     375300.0      100.00\n",
       "7           BI      5119300.0    5233450.0       97.82\n",
       "8           BJ      3829925.0    3865825.0       99.07\n",
       "9           BO     41814950.0   44226725.0       94.55"
      ]
     },
     "execution_count": 37,
     "metadata": {},
     "output_type": "execute_result"
    },
    {
     "name": "stdout",
     "output_type": "stream",
     "text": [
      "time: 32.1 ms\n"
     ]
    }
   ],
   "source": [
    "perc = pd.DataFrame(columns=['country_code','funded_amount','loan_amount','percentage'])\n",
    "perc['country_code'] = money_borrowed['country_code']\n",
    "perc['funded_amount'] = money_borrowed['funded_amount']\n",
    "perc['loan_amount'] = money_lent['loan_amount']\n",
    "perc['percentage'] = round(money_borrowed['funded_amount']/money_lent['loan_amount']*100,2)\n",
    "perc.head(10)"
   ]
  },
  {
   "cell_type": "markdown",
   "metadata": {},
   "source": [
    "# QUESTION 7)\n",
    "- Like the three previous points, but split for each year (with respect to disburse time)."
   ]
  },
  {
   "cell_type": "markdown",
   "metadata": {},
   "source": [
    "Ciò che risulta necessario fare per risolvere questo quesito, prima di ogni altro passaggio è quello di creare una variabile 'year' ricavata dalla colonna 'disburse_time' della tabella loans_csv.\n",
    "Ho utilizzato la funzione di pandas Pandas Series.dt.year."
   ]
  },
  {
   "cell_type": "code",
   "execution_count": 38,
   "metadata": {},
   "outputs": [
    {
     "name": "stdout",
     "output_type": "stream",
     "text": [
      "time: 204 ms\n"
     ]
    }
   ],
   "source": [
    "loans_csv['year'] = data1.dt.year"
   ]
  },
  {
   "cell_type": "markdown",
   "metadata": {},
   "source": [
    "RIFERITO AL PUNTO 4)"
   ]
  },
  {
   "cell_type": "markdown",
   "metadata": {},
   "source": [
    "Applico una groupby per calcolare la numerosità per 'country_code' e 'year' e creo un nuovo dataframe che mi mostri i risultati."
   ]
  },
  {
   "cell_type": "code",
   "execution_count": 39,
   "metadata": {},
   "outputs": [
    {
     "data": {
      "text/html": [
       "<div>\n",
       "<style scoped>\n",
       "    .dataframe tbody tr th:only-of-type {\n",
       "        vertical-align: middle;\n",
       "    }\n",
       "\n",
       "    .dataframe tbody tr th {\n",
       "        vertical-align: top;\n",
       "    }\n",
       "\n",
       "    .dataframe thead th {\n",
       "        text-align: right;\n",
       "    }\n",
       "</style>\n",
       "<table border=\"1\" class=\"dataframe\">\n",
       "  <thead>\n",
       "    <tr style=\"text-align: right;\">\n",
       "      <th></th>\n",
       "      <th></th>\n",
       "      <th>borrowers</th>\n",
       "    </tr>\n",
       "    <tr>\n",
       "      <th>country_code</th>\n",
       "      <th>year</th>\n",
       "      <th></th>\n",
       "    </tr>\n",
       "  </thead>\n",
       "  <tbody>\n",
       "    <tr>\n",
       "      <th rowspan=\"7\" valign=\"top\">AF</th>\n",
       "      <th>2007.0</th>\n",
       "      <td>408</td>\n",
       "    </tr>\n",
       "    <tr>\n",
       "      <th>2008.0</th>\n",
       "      <td>370</td>\n",
       "    </tr>\n",
       "    <tr>\n",
       "      <th>2009.0</th>\n",
       "      <td>678</td>\n",
       "    </tr>\n",
       "    <tr>\n",
       "      <th>2010.0</th>\n",
       "      <td>632</td>\n",
       "    </tr>\n",
       "    <tr>\n",
       "      <th>2011.0</th>\n",
       "      <td>247</td>\n",
       "    </tr>\n",
       "    <tr>\n",
       "      <th>2015.0</th>\n",
       "      <td>1</td>\n",
       "    </tr>\n",
       "    <tr>\n",
       "      <th>2016.0</th>\n",
       "      <td>1</td>\n",
       "    </tr>\n",
       "    <tr>\n",
       "      <th rowspan=\"3\" valign=\"top\">AL</th>\n",
       "      <th>2012.0</th>\n",
       "      <td>332</td>\n",
       "    </tr>\n",
       "    <tr>\n",
       "      <th>2013.0</th>\n",
       "      <td>507</td>\n",
       "    </tr>\n",
       "    <tr>\n",
       "      <th>2014.0</th>\n",
       "      <td>603</td>\n",
       "    </tr>\n",
       "  </tbody>\n",
       "</table>\n",
       "</div>"
      ],
      "text/plain": [
       "                     borrowers\n",
       "country_code year             \n",
       "AF           2007.0        408\n",
       "             2008.0        370\n",
       "             2009.0        678\n",
       "             2010.0        632\n",
       "             2011.0        247\n",
       "             2015.0          1\n",
       "             2016.0          1\n",
       "AL           2012.0        332\n",
       "             2013.0        507\n",
       "             2014.0        603"
      ]
     },
     "execution_count": 39,
     "metadata": {},
     "output_type": "execute_result"
    },
    {
     "name": "stdout",
     "output_type": "stream",
     "text": [
      "time: 607 ms\n"
     ]
    }
   ],
   "source": [
    "borrowers1 = pd.DataFrame(loans_csv.groupby(['country_code','year']).size()).rename(columns={0:'borrowers'})\n",
    "borrowers1.head(10)"
   ]
  },
  {
   "cell_type": "markdown",
   "metadata": {},
   "source": [
    "RISPETTO AL PUNTO 5)"
   ]
  },
  {
   "cell_type": "markdown",
   "metadata": {},
   "source": [
    "Applico una groupby per 'country_code' e'year' per calcolare la somma dei finanziamenti ricevuti per nazione e per anno. Creo un nuovo dataframe che mi mostri i risultati."
   ]
  },
  {
   "cell_type": "code",
   "execution_count": 40,
   "metadata": {},
   "outputs": [
    {
     "data": {
      "text/html": [
       "<div>\n",
       "<style scoped>\n",
       "    .dataframe tbody tr th:only-of-type {\n",
       "        vertical-align: middle;\n",
       "    }\n",
       "\n",
       "    .dataframe tbody tr th {\n",
       "        vertical-align: top;\n",
       "    }\n",
       "\n",
       "    .dataframe thead th {\n",
       "        text-align: right;\n",
       "    }\n",
       "</style>\n",
       "<table border=\"1\" class=\"dataframe\">\n",
       "  <thead>\n",
       "    <tr style=\"text-align: right;\">\n",
       "      <th></th>\n",
       "      <th></th>\n",
       "      <th>funded_amount</th>\n",
       "    </tr>\n",
       "    <tr>\n",
       "      <th>country_code</th>\n",
       "      <th>year</th>\n",
       "      <th></th>\n",
       "    </tr>\n",
       "  </thead>\n",
       "  <tbody>\n",
       "    <tr>\n",
       "      <th rowspan=\"7\" valign=\"top\">AF</th>\n",
       "      <th>2007.0</th>\n",
       "      <td>194975.0</td>\n",
       "    </tr>\n",
       "    <tr>\n",
       "      <th>2008.0</th>\n",
       "      <td>365375.0</td>\n",
       "    </tr>\n",
       "    <tr>\n",
       "      <th>2009.0</th>\n",
       "      <td>581825.0</td>\n",
       "    </tr>\n",
       "    <tr>\n",
       "      <th>2010.0</th>\n",
       "      <td>563350.0</td>\n",
       "    </tr>\n",
       "    <tr>\n",
       "      <th>2011.0</th>\n",
       "      <td>245125.0</td>\n",
       "    </tr>\n",
       "    <tr>\n",
       "      <th>2015.0</th>\n",
       "      <td>6000.0</td>\n",
       "    </tr>\n",
       "    <tr>\n",
       "      <th>2016.0</th>\n",
       "      <td>8000.0</td>\n",
       "    </tr>\n",
       "    <tr>\n",
       "      <th rowspan=\"3\" valign=\"top\">AL</th>\n",
       "      <th>2012.0</th>\n",
       "      <td>411775.0</td>\n",
       "    </tr>\n",
       "    <tr>\n",
       "      <th>2013.0</th>\n",
       "      <td>780850.0</td>\n",
       "    </tr>\n",
       "    <tr>\n",
       "      <th>2014.0</th>\n",
       "      <td>875225.0</td>\n",
       "    </tr>\n",
       "  </tbody>\n",
       "</table>\n",
       "</div>"
      ],
      "text/plain": [
       "                     funded_amount\n",
       "country_code year                 \n",
       "AF           2007.0       194975.0\n",
       "             2008.0       365375.0\n",
       "             2009.0       581825.0\n",
       "             2010.0       563350.0\n",
       "             2011.0       245125.0\n",
       "             2015.0         6000.0\n",
       "             2016.0         8000.0\n",
       "AL           2012.0       411775.0\n",
       "             2013.0       780850.0\n",
       "             2014.0       875225.0"
      ]
     },
     "execution_count": 40,
     "metadata": {},
     "output_type": "execute_result"
    },
    {
     "name": "stdout",
     "output_type": "stream",
     "text": [
      "time: 193 ms\n"
     ]
    }
   ],
   "source": [
    "split_year = pd.DataFrame(loans_csv[['country_code','funded_amount','year']].groupby(['country_code','year']).sum())\n",
    "split_year.head(10)"
   ]
  },
  {
   "cell_type": "markdown",
   "metadata": {},
   "source": [
    "RIFERITO AL PUNTO 6)"
   ]
  },
  {
   "cell_type": "markdown",
   "metadata": {},
   "source": [
    "Infine, creo un nuovo dataframe che mi mostri le percentuali di ogni paese, divise per anno, tra la quantità presa in prestito 'funded_amount e quella prestata 'loan_amount'."
   ]
  },
  {
   "cell_type": "code",
   "execution_count": 41,
   "metadata": {},
   "outputs": [
    {
     "data": {
      "text/html": [
       "<div>\n",
       "<style scoped>\n",
       "    .dataframe tbody tr th:only-of-type {\n",
       "        vertical-align: middle;\n",
       "    }\n",
       "\n",
       "    .dataframe tbody tr th {\n",
       "        vertical-align: top;\n",
       "    }\n",
       "\n",
       "    .dataframe thead th {\n",
       "        text-align: right;\n",
       "    }\n",
       "</style>\n",
       "<table border=\"1\" class=\"dataframe\">\n",
       "  <thead>\n",
       "    <tr style=\"text-align: right;\">\n",
       "      <th></th>\n",
       "      <th></th>\n",
       "      <th>percentage</th>\n",
       "    </tr>\n",
       "    <tr>\n",
       "      <th>country_code</th>\n",
       "      <th>year</th>\n",
       "      <th></th>\n",
       "    </tr>\n",
       "  </thead>\n",
       "  <tbody>\n",
       "    <tr>\n",
       "      <th rowspan=\"7\" valign=\"top\">AF</th>\n",
       "      <th>2007.0</th>\n",
       "      <td>9.907518</td>\n",
       "    </tr>\n",
       "    <tr>\n",
       "      <th>2008.0</th>\n",
       "      <td>18.566275</td>\n",
       "    </tr>\n",
       "    <tr>\n",
       "      <th>2009.0</th>\n",
       "      <td>29.565030</td>\n",
       "    </tr>\n",
       "    <tr>\n",
       "      <th>2010.0</th>\n",
       "      <td>28.626235</td>\n",
       "    </tr>\n",
       "    <tr>\n",
       "      <th>2011.0</th>\n",
       "      <td>12.455855</td>\n",
       "    </tr>\n",
       "    <tr>\n",
       "      <th>2015.0</th>\n",
       "      <td>0.304886</td>\n",
       "    </tr>\n",
       "    <tr>\n",
       "      <th>2016.0</th>\n",
       "      <td>0.406514</td>\n",
       "    </tr>\n",
       "    <tr>\n",
       "      <th rowspan=\"3\" valign=\"top\">AL</th>\n",
       "      <th>2012.0</th>\n",
       "      <td>9.559822</td>\n",
       "    </tr>\n",
       "    <tr>\n",
       "      <th>2013.0</th>\n",
       "      <td>18.128316</td>\n",
       "    </tr>\n",
       "    <tr>\n",
       "      <th>2014.0</th>\n",
       "      <td>20.319338</td>\n",
       "    </tr>\n",
       "  </tbody>\n",
       "</table>\n",
       "</div>"
      ],
      "text/plain": [
       "                     percentage\n",
       "country_code year              \n",
       "AF           2007.0    9.907518\n",
       "             2008.0   18.566275\n",
       "             2009.0   29.565030\n",
       "             2010.0   28.626235\n",
       "             2011.0   12.455855\n",
       "             2015.0    0.304886\n",
       "             2016.0    0.406514\n",
       "AL           2012.0    9.559822\n",
       "             2013.0   18.128316\n",
       "             2014.0   20.319338"
      ]
     },
     "execution_count": 41,
     "metadata": {},
     "output_type": "execute_result"
    },
    {
     "name": "stdout",
     "output_type": "stream",
     "text": [
      "time: 287 ms\n"
     ]
    }
   ],
   "source": [
    "percxyear = pd.DataFrame((loans_csv.groupby(['country_code','year'])['funded_amount'].sum())\n",
    "                     /(loans_csv['loan_amount'].groupby(loans_csv['country_code']).sum())*100).rename(columns={0:'percentage'})\n",
    "percxyear.head(10)"
   ]
  },
  {
   "cell_type": "markdown",
   "metadata": {},
   "source": [
    "# QUESTION 8)\n",
    "- For each lender, compute the overall amount of money lent. For each loan that has more than one lender, you must assume that all lenders contributed the same amount."
   ]
  },
  {
   "cell_type": "markdown",
   "metadata": {},
   "source": [
    "Per imputare a ciascun lender l'ammontare procapite di prestito in cui è stato coinvolto, assumo che ciascuno contribuisca egualmente; per prima cosa, decido di prendere come riferimento il dataframe 'norm_loans_lenders' creato al punto 1) e di eseguire una groupby per 'loan_id'."
   ]
  },
  {
   "cell_type": "code",
   "execution_count": 42,
   "metadata": {},
   "outputs": [
    {
     "name": "stdout",
     "output_type": "stream",
     "text": [
      "time: 2.47 s\n"
     ]
    }
   ],
   "source": [
    "start=pd.DataFrame(norm_loans_lenders.groupby(norm_loans_lenders['loan_id']).size()).reset_index().rename(columns={0:'count'})  "
   ]
  },
  {
   "cell_type": "markdown",
   "metadata": {},
   "source": [
    "Successivamente eseguo una merge per aggiungere a ciascuna riga loan_id-lender, una colonna con il numero di lender che partecipano al prestito considerato"
   ]
  },
  {
   "cell_type": "code",
   "execution_count": 43,
   "metadata": {},
   "outputs": [
    {
     "name": "stdout",
     "output_type": "stream",
     "text": [
      "time: 30 s\n"
     ]
    }
   ],
   "source": [
    "norm_loans_lenders=pd.merge(norm_loans_lenders,start)"
   ]
  },
  {
   "cell_type": "markdown",
   "metadata": {},
   "source": [
    "Ora eseguo una merge con il dataframe 'loans_csv' per aggiungere la colonna 'loan_amount'"
   ]
  },
  {
   "cell_type": "code",
   "execution_count": 44,
   "metadata": {},
   "outputs": [
    {
     "name": "stdout",
     "output_type": "stream",
     "text": [
      "time: 10.2 s\n"
     ]
    }
   ],
   "source": [
    "norm_loans_lenders=pd.merge(norm_loans_lenders,loans_csv[['loan_id','loan_amount']])"
   ]
  },
  {
   "cell_type": "markdown",
   "metadata": {},
   "source": [
    "Infine creo una nuova variabile 'procapita_amount' ottenuta dividendo il valore della variabile 'loan_amount' per il numero di lenders che partecipano al prestito ('count')."
   ]
  },
  {
   "cell_type": "code",
   "execution_count": 45,
   "metadata": {},
   "outputs": [
    {
     "name": "stdout",
     "output_type": "stream",
     "text": [
      "time: 334 ms\n"
     ]
    }
   ],
   "source": [
    "norm_loans_lenders['procapita_amount']=norm_loans_lenders['loan_amount']/norm_loans_lenders['count']"
   ]
  },
  {
   "cell_type": "markdown",
   "metadata": {},
   "source": [
    "Eseguo una groupby per ottenere la quantità pro capite ('procapita_amount') di finanziamenti per ogni lender."
   ]
  },
  {
   "cell_type": "code",
   "execution_count": 46,
   "metadata": {},
   "outputs": [
    {
     "data": {
      "text/html": [
       "<div>\n",
       "<style scoped>\n",
       "    .dataframe tbody tr th:only-of-type {\n",
       "        vertical-align: middle;\n",
       "    }\n",
       "\n",
       "    .dataframe tbody tr th {\n",
       "        vertical-align: top;\n",
       "    }\n",
       "\n",
       "    .dataframe thead th {\n",
       "        text-align: right;\n",
       "    }\n",
       "</style>\n",
       "<table border=\"1\" class=\"dataframe\">\n",
       "  <thead>\n",
       "    <tr style=\"text-align: right;\">\n",
       "      <th></th>\n",
       "      <th>procapita_amount</th>\n",
       "    </tr>\n",
       "    <tr>\n",
       "      <th>lenders</th>\n",
       "      <th></th>\n",
       "    </tr>\n",
       "  </thead>\n",
       "  <tbody>\n",
       "    <tr>\n",
       "      <th>000</th>\n",
       "      <td>1764.29</td>\n",
       "    </tr>\n",
       "    <tr>\n",
       "      <th>00000</th>\n",
       "      <td>1380.69</td>\n",
       "    </tr>\n",
       "    <tr>\n",
       "      <th>0002</th>\n",
       "      <td>2472.56</td>\n",
       "    </tr>\n",
       "    <tr>\n",
       "      <th>00mike00</th>\n",
       "      <td>52.63</td>\n",
       "    </tr>\n",
       "    <tr>\n",
       "      <th>0101craign0101</th>\n",
       "      <td>2623.57</td>\n",
       "    </tr>\n",
       "    <tr>\n",
       "      <th>0132575</th>\n",
       "      <td>117.68</td>\n",
       "    </tr>\n",
       "    <tr>\n",
       "      <th>0154884</th>\n",
       "      <td>136.34</td>\n",
       "    </tr>\n",
       "    <tr>\n",
       "      <th>0161130</th>\n",
       "      <td>74.78</td>\n",
       "    </tr>\n",
       "    <tr>\n",
       "      <th>0169713</th>\n",
       "      <td>128.84</td>\n",
       "    </tr>\n",
       "    <tr>\n",
       "      <th>0185429</th>\n",
       "      <td>57.67</td>\n",
       "    </tr>\n",
       "  </tbody>\n",
       "</table>\n",
       "</div>"
      ],
      "text/plain": [
       "                procapita_amount\n",
       "lenders                         \n",
       "000                      1764.29\n",
       "00000                    1380.69\n",
       "0002                     2472.56\n",
       "00mike00                   52.63\n",
       "0101craign0101           2623.57\n",
       "0132575                   117.68\n",
       "0154884                   136.34\n",
       "0161130                    74.78\n",
       "0169713                   128.84\n",
       "0185429                    57.67"
      ]
     },
     "execution_count": 46,
     "metadata": {},
     "output_type": "execute_result"
    },
    {
     "name": "stdout",
     "output_type": "stream",
     "text": [
      "time: 20.1 s\n"
     ]
    }
   ],
   "source": [
    "procapita_amount=round(norm_loans_lenders[['lenders','procapita_amount']].groupby('lenders').sum(),2)\n",
    "procapita_amount.head(10)"
   ]
  },
  {
   "cell_type": "markdown",
   "metadata": {},
   "source": [
    "# QUESTION 9)\n",
    "- For each country, compute the difference between the overall amount of money lent and the overall amount of money borrowed. \n",
    "Since the country of the lender is often unknown, you can assume that the true distribution among the countries is the same as the one\n",
    "computed from the rows where the country is known."
   ]
  },
  {
   "cell_type": "markdown",
   "metadata": {},
   "source": [
    "Poichè viene richiesta un'operazione simile a quella del punto 6 viene riutilizzato il dataset 'perc' creato nel medesimo.\n",
    "Creo una nuova variabile con la differenza tra i 'money_lent' e i 'money_borrowed' per ciascuna nazione chiamata 'diff_fund_lent'."
   ]
  },
  {
   "cell_type": "code",
   "execution_count": 47,
   "metadata": {},
   "outputs": [
    {
     "data": {
      "text/html": [
       "<div>\n",
       "<style scoped>\n",
       "    .dataframe tbody tr th:only-of-type {\n",
       "        vertical-align: middle;\n",
       "    }\n",
       "\n",
       "    .dataframe tbody tr th {\n",
       "        vertical-align: top;\n",
       "    }\n",
       "\n",
       "    .dataframe thead th {\n",
       "        text-align: right;\n",
       "    }\n",
       "</style>\n",
       "<table border=\"1\" class=\"dataframe\">\n",
       "  <thead>\n",
       "    <tr style=\"text-align: right;\">\n",
       "      <th></th>\n",
       "      <th>country_code</th>\n",
       "      <th>funded_amount</th>\n",
       "      <th>loan_amount</th>\n",
       "      <th>percentage</th>\n",
       "      <th>diff_fund_lent</th>\n",
       "    </tr>\n",
       "  </thead>\n",
       "  <tbody>\n",
       "    <tr>\n",
       "      <th>0</th>\n",
       "      <td>AF</td>\n",
       "      <td>1964650.0</td>\n",
       "      <td>1967950.0</td>\n",
       "      <td>99.83</td>\n",
       "      <td>3300.0</td>\n",
       "    </tr>\n",
       "    <tr>\n",
       "      <th>1</th>\n",
       "      <td>AL</td>\n",
       "      <td>3992475.0</td>\n",
       "      <td>4307350.0</td>\n",
       "      <td>92.69</td>\n",
       "      <td>314875.0</td>\n",
       "    </tr>\n",
       "    <tr>\n",
       "      <th>2</th>\n",
       "      <td>AM</td>\n",
       "      <td>20284675.0</td>\n",
       "      <td>22950475.0</td>\n",
       "      <td>88.38</td>\n",
       "      <td>2665800.0</td>\n",
       "    </tr>\n",
       "    <tr>\n",
       "      <th>3</th>\n",
       "      <td>AZ</td>\n",
       "      <td>14191350.0</td>\n",
       "      <td>14784625.0</td>\n",
       "      <td>95.99</td>\n",
       "      <td>593275.0</td>\n",
       "    </tr>\n",
       "    <tr>\n",
       "      <th>4</th>\n",
       "      <td>BA</td>\n",
       "      <td>477250.0</td>\n",
       "      <td>477250.0</td>\n",
       "      <td>100.00</td>\n",
       "      <td>0.0</td>\n",
       "    </tr>\n",
       "    <tr>\n",
       "      <th>5</th>\n",
       "      <td>BF</td>\n",
       "      <td>4042950.0</td>\n",
       "      <td>4085200.0</td>\n",
       "      <td>98.97</td>\n",
       "      <td>42250.0</td>\n",
       "    </tr>\n",
       "    <tr>\n",
       "      <th>6</th>\n",
       "      <td>BG</td>\n",
       "      <td>375300.0</td>\n",
       "      <td>375300.0</td>\n",
       "      <td>100.00</td>\n",
       "      <td>0.0</td>\n",
       "    </tr>\n",
       "    <tr>\n",
       "      <th>7</th>\n",
       "      <td>BI</td>\n",
       "      <td>5119300.0</td>\n",
       "      <td>5233450.0</td>\n",
       "      <td>97.82</td>\n",
       "      <td>114150.0</td>\n",
       "    </tr>\n",
       "    <tr>\n",
       "      <th>8</th>\n",
       "      <td>BJ</td>\n",
       "      <td>3829925.0</td>\n",
       "      <td>3865825.0</td>\n",
       "      <td>99.07</td>\n",
       "      <td>35900.0</td>\n",
       "    </tr>\n",
       "    <tr>\n",
       "      <th>9</th>\n",
       "      <td>BO</td>\n",
       "      <td>41814950.0</td>\n",
       "      <td>44226725.0</td>\n",
       "      <td>94.55</td>\n",
       "      <td>2411775.0</td>\n",
       "    </tr>\n",
       "  </tbody>\n",
       "</table>\n",
       "</div>"
      ],
      "text/plain": [
       "  country_code  funded_amount  loan_amount  percentage  diff_fund_lent\n",
       "0           AF      1964650.0    1967950.0       99.83          3300.0\n",
       "1           AL      3992475.0    4307350.0       92.69        314875.0\n",
       "2           AM     20284675.0   22950475.0       88.38       2665800.0\n",
       "3           AZ     14191350.0   14784625.0       95.99        593275.0\n",
       "4           BA       477250.0     477250.0      100.00             0.0\n",
       "5           BF      4042950.0    4085200.0       98.97         42250.0\n",
       "6           BG       375300.0     375300.0      100.00             0.0\n",
       "7           BI      5119300.0    5233450.0       97.82        114150.0\n",
       "8           BJ      3829925.0    3865825.0       99.07         35900.0\n",
       "9           BO     41814950.0   44226725.0       94.55       2411775.0"
      ]
     },
     "execution_count": 47,
     "metadata": {},
     "output_type": "execute_result"
    },
    {
     "name": "stdout",
     "output_type": "stream",
     "text": [
      "time: 70.6 ms\n"
     ]
    }
   ],
   "source": [
    "perc['diff_fund_lent'] = round(money_lent['loan_amount']-money_borrowed['funded_amount'],2)\n",
    "perc.head(10)"
   ]
  },
  {
   "cell_type": "markdown",
   "metadata": {},
   "source": [
    "# QUESTION 10)\n",
    "\n",
    "- Which country has the highest ratio between the difference computed at the previous point and the population?"
   ]
  },
  {
   "cell_type": "markdown",
   "metadata": {},
   "source": [
    "Per risolvere questo quesito eseguo una merge tra il dataframe 'perc' e il dataframe 'country_stats' su 'country_code'"
   ]
  },
  {
   "cell_type": "code",
   "execution_count": 48,
   "metadata": {},
   "outputs": [
    {
     "name": "stdout",
     "output_type": "stream",
     "text": [
      "time: 52.3 ms\n"
     ]
    }
   ],
   "source": [
    "highest_ratio = perc.merge(country_stats, on='country_code')"
   ]
  },
  {
   "cell_type": "markdown",
   "metadata": {},
   "source": [
    "Viene calcolato il rapporto tra la differenza 'diff_fund_lent' della Question 9) e la numerosità della popolazione.\n",
    "Dall'output si può identificare la nazione con il rapporto più elevato"
   ]
  },
  {
   "cell_type": "code",
   "execution_count": 57,
   "metadata": {},
   "outputs": [
    {
     "data": {
      "text/plain": [
       "country_code                              WS\n",
       "funded_amount                    1.15082e+07\n",
       "loan_amount                      1.22122e+07\n",
       "percentage                             94.24\n",
       "diff_fund_lent                        703925\n",
       "country_name                           Samoa\n",
       "country_code3                            WSM\n",
       "continent                            Oceania\n",
       "region                             Polynesia\n",
       "population                            196440\n",
       "population_below_poverty_line            NaN\n",
       "hdi                                    0.702\n",
       "life_expectancy                          NaN\n",
       "expected_years_of_schooling              NaN\n",
       "mean_years_of_schooling                  NaN\n",
       "gni                                      NaN\n",
       "kiva_country_name                      Samoa\n",
       "ratio                                3.58341\n",
       "pop_up_poverty                   4.10463e+06\n",
       "ratio2                              0.171495\n",
       "Name: 85, dtype: object"
      ]
     },
     "execution_count": 57,
     "metadata": {},
     "output_type": "execute_result"
    },
    {
     "name": "stdout",
     "output_type": "stream",
     "text": [
      "time: 8.89 ms\n"
     ]
    }
   ],
   "source": [
    "highest_ratio['ratio'] = highest_ratio['diff_fund_lent'] / highest_ratio['population']\n",
    "#highest_ratio.iloc[highest_ratio['ratio'].idxmax()]"
   ]
  },
  {
   "cell_type": "code",
   "execution_count": 50,
   "metadata": {},
   "outputs": [
    {
     "name": "stdout",
     "output_type": "stream",
     "text": [
      "Nazione con ratio massima: \n",
      " Nazione = Samoa | Country Code = WS | Ratio = 3.583\n",
      "time: 6.31 ms\n"
     ]
    }
   ],
   "source": [
    "print('Nazione con ratio massima:','\\n',\n",
    "      'Nazione =',highest_ratio['country_name'][highest_ratio['ratio'].idxmax()],\n",
    "      '|','Country Code =',highest_ratio['country_code'][highest_ratio['ratio'].idxmax()],\n",
    "      '|','Ratio =',round(highest_ratio['ratio'][highest_ratio['ratio'].idxmax()],3))"
   ]
  },
  {
   "cell_type": "markdown",
   "metadata": {},
   "source": [
    "# QUESTION 11)\n",
    "- Which country has the highest ratio between the difference computed at point 9 and the population that is not below the poverty line?"
   ]
  },
  {
   "cell_type": "markdown",
   "metadata": {},
   "source": [
    "Il quesito 11) è simile al quesito nel punto 10) quindi riutilizzo lo stesso dataframe 'highest ratio'"
   ]
  },
  {
   "cell_type": "markdown",
   "metadata": {},
   "source": [
    "Quello che segue è il calcolo delle persone che vivono sopra la soglia di povertà ('pop_up_poverty')"
   ]
  },
  {
   "cell_type": "code",
   "execution_count": 51,
   "metadata": {},
   "outputs": [
    {
     "name": "stdout",
     "output_type": "stream",
     "text": [
      "time: 18.9 ms\n"
     ]
    }
   ],
   "source": [
    "highest_ratio['pop_up_poverty'] = round(country_stats['population']-(country_stats['population']*country_stats['population_below_poverty_line']/100))"
   ]
  },
  {
   "cell_type": "markdown",
   "metadata": {},
   "source": [
    "Calcolo il rapporto richiesto per la risoluzione dell'esercizio"
   ]
  },
  {
   "cell_type": "code",
   "execution_count": 52,
   "metadata": {},
   "outputs": [
    {
     "name": "stdout",
     "output_type": "stream",
     "text": [
      "time: 4.68 ms\n"
     ]
    }
   ],
   "source": [
    "highest_ratio['ratio2'] = highest_ratio['diff_fund_lent'] / highest_ratio['pop_up_poverty']"
   ]
  },
  {
   "cell_type": "markdown",
   "metadata": {},
   "source": [
    "visualizzo la nazione con il massimo rapporto (considerando la popolazione sopra la poverty_line)"
   ]
  },
  {
   "cell_type": "code",
   "execution_count": 56,
   "metadata": {},
   "outputs": [
    {
     "data": {
      "text/plain": [
       "country_code                                   US\n",
       "funded_amount                         3.63653e+07\n",
       "loan_amount                            4.6352e+07\n",
       "percentage                                  78.45\n",
       "diff_fund_lent                        9.98666e+06\n",
       "country_name                        United States\n",
       "country_code3                                 USA\n",
       "continent                                Americas\n",
       "region                           Northern America\n",
       "population                              324459463\n",
       "population_below_poverty_line                15.1\n",
       "hdi                                      0.919553\n",
       "life_expectancy                            79.222\n",
       "expected_years_of_schooling               16.5382\n",
       "mean_years_of_schooling                   13.2179\n",
       "gni                                       53245.1\n",
       "kiva_country_name                   United States\n",
       "ratio                                   0.0307794\n",
       "pop_up_poverty                        4.15198e+06\n",
       "ratio2                                    2.40528\n",
       "Name: 82, dtype: object"
      ]
     },
     "execution_count": 56,
     "metadata": {},
     "output_type": "execute_result"
    },
    {
     "name": "stdout",
     "output_type": "stream",
     "text": [
      "time: 17.9 ms\n"
     ]
    }
   ],
   "source": [
    "#highest_ratio[['country_name']].head(10)\n",
    "#highest_ratio.iloc[highest_ratio['ratio2'].idxmax()]"
   ]
  },
  {
   "cell_type": "code",
   "execution_count": 54,
   "metadata": {},
   "outputs": [
    {
     "name": "stdout",
     "output_type": "stream",
     "text": [
      "Nazione con il massimo rapporto (considerando la popolazione sopra la poverty_line): \n",
      " Nazione = United States | Country Code = US | Ratio = 2.405\n",
      "time: 6.62 ms\n"
     ]
    }
   ],
   "source": [
    "print('Nazione con il massimo rapporto (considerando la popolazione sopra la poverty_line):','\\n',\n",
    "      'Nazione =',highest_ratio['country_name'][highest_ratio['ratio2'].idxmax()],\n",
    "      '|','Country Code =',highest_ratio['country_code'][highest_ratio['ratio2'].idxmax()],\n",
    "      '|','Ratio =',round(highest_ratio['ratio2'][highest_ratio['ratio2'].idxmax()],3))"
   ]
  },
  {
   "cell_type": "code",
   "execution_count": 55,
   "metadata": {},
   "outputs": [
    {
     "name": "stdout",
     "output_type": "stream",
     "text": [
      "Tempo di esecuzione totale:  0:07:16.498492\n",
      "time: 1.93 ms\n"
     ]
    }
   ],
   "source": [
    "finish=dt.datetime.now()\n",
    "print('Tempo di esecuzione totale: ',finish-initial)"
   ]
  }
 ],
 "metadata": {
  "kernelspec": {
   "display_name": "Python 3",
   "language": "python",
   "name": "python3"
  },
  "language_info": {
   "codemirror_mode": {
    "name": "ipython",
    "version": 3
   },
   "file_extension": ".py",
   "mimetype": "text/x-python",
   "name": "python",
   "nbconvert_exporter": "python",
   "pygments_lexer": "ipython3",
   "version": "3.7.3"
  }
 },
 "nbformat": 4,
 "nbformat_minor": 4
}
